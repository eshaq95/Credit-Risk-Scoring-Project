{
  "cells": [
    {
      "cell_type": "markdown",
      "source": [
        "# **Appendix**"
      ],
      "metadata": {
        "id": "rVIBc8pqtgDv"
      },
      "id": "rVIBc8pqtgDv"
    },
    {
      "cell_type": "markdown",
      "id": "3bcea29a",
      "metadata": {
        "id": "3bcea29a"
      },
      "source": [
        "# Q1) Splitting the dataset into two subsets, exploring dataset and cleaning"
      ]
    },
    {
      "cell_type": "code",
      "source": [
        "#!pip install optbinning"
      ],
      "metadata": {
        "id": "HYBzw71Bkt4z"
      },
      "id": "HYBzw71Bkt4z",
      "execution_count": null,
      "outputs": []
    },
    {
      "cell_type": "code",
      "execution_count": null,
      "id": "56b1c1f4",
      "metadata": {
        "id": "56b1c1f4"
      },
      "outputs": [],
      "source": [
        "import pandas as pd\n",
        "\n",
        "# Load the data from Sheet2 of the Excel file\n",
        "data = pd.read_excel('GermanCreditData.xlsx', sheet_name='Sheet1')\n",
        "\n",
        "# Create Subset 1 and Subset 2 based on Checking values\n",
        "subset1 = data[(data['Checking'] == 1) | (data['Checking'] == 2)]\n",
        "subset2 = data[(data['Checking'] == 3) | (data['Checking'] == 4)]\n",
        "\n"
      ]
    },
    {
      "cell_type": "code",
      "execution_count": null,
      "id": "61b07fe6",
      "metadata": {
        "scrolled": false,
        "colab": {
          "base_uri": "https://localhost:8080/",
          "height": 424
        },
        "id": "61b07fe6",
        "outputId": "27a6bef9-4eda-47c2-dcf9-411cbac21eff"
      },
      "outputs": [
        {
          "output_type": "execute_result",
          "data": {
            "text/plain": [
              "     Checking  Duration  History Purpose  Amount  Savings  Emploed  Installp  \\\n",
              "0           1         6        4       3    1169        5        5         4   \n",
              "1           2        48        2       3    5951        1        3         2   \n",
              "2           4        12        4       6    2096        1        4         2   \n",
              "3           1        42        2       2    7882        1        4         2   \n",
              "4           1        24        3       0    4870        1        3         3   \n",
              "..        ...       ...      ...     ...     ...      ...      ...       ...   \n",
              "995         4        12        2       2    1736        1        4         3   \n",
              "996         1        30        2       1    3857        1        3         4   \n",
              "997         4        12        2       3     804        1        5         4   \n",
              "998         1        45        2       3    1845        1        3         4   \n",
              "999         2        45        4       1    4576        2        1         3   \n",
              "\n",
              "     marital  Coapp  ...  Age  Other  housing  Existcr  Job  Depends  \\\n",
              "0          3      1  ...   67      3        2        2    3        1   \n",
              "1          2      1  ...   22      3        2        1    3        1   \n",
              "2          3      1  ...   49      3        2        1    2        2   \n",
              "3          3      3  ...   45      3        3        1    3        2   \n",
              "4          3      1  ...   53      3        3        2    3        2   \n",
              "..       ...    ...  ...  ...    ...      ...      ...  ...      ...   \n",
              "995        2      1  ...   31      3        2        1    2        1   \n",
              "996        1      1  ...   40      3        2        1    4        1   \n",
              "997        3      1  ...   38      3        2        1    3        1   \n",
              "998        3      1  ...   23      3        3        1    3        1   \n",
              "999        3      1  ...   27      3        2        1    3        1   \n",
              "\n",
              "     Telephone  Foreign  Bad  Good  \n",
              "0            2        1    0     1  \n",
              "1            1        1    1     0  \n",
              "2            1        1    0     1  \n",
              "3            1        1    0     1  \n",
              "4            1        1    1     0  \n",
              "..         ...      ...  ...   ...  \n",
              "995          1        1    0     1  \n",
              "996          2        1    0     1  \n",
              "997          1        1    0     1  \n",
              "998          2        1    1     0  \n",
              "999          1        1    0     1  \n",
              "\n",
              "[1000 rows x 22 columns]"
            ],
            "text/html": [
              "\n",
              "  <div id=\"df-f9a39e22-ba88-4630-94ab-a359fbaa7ae8\">\n",
              "    <div class=\"colab-df-container\">\n",
              "      <div>\n",
              "<style scoped>\n",
              "    .dataframe tbody tr th:only-of-type {\n",
              "        vertical-align: middle;\n",
              "    }\n",
              "\n",
              "    .dataframe tbody tr th {\n",
              "        vertical-align: top;\n",
              "    }\n",
              "\n",
              "    .dataframe thead th {\n",
              "        text-align: right;\n",
              "    }\n",
              "</style>\n",
              "<table border=\"1\" class=\"dataframe\">\n",
              "  <thead>\n",
              "    <tr style=\"text-align: right;\">\n",
              "      <th></th>\n",
              "      <th>Checking</th>\n",
              "      <th>Duration</th>\n",
              "      <th>History</th>\n",
              "      <th>Purpose</th>\n",
              "      <th>Amount</th>\n",
              "      <th>Savings</th>\n",
              "      <th>Emploed</th>\n",
              "      <th>Installp</th>\n",
              "      <th>marital</th>\n",
              "      <th>Coapp</th>\n",
              "      <th>...</th>\n",
              "      <th>Age</th>\n",
              "      <th>Other</th>\n",
              "      <th>housing</th>\n",
              "      <th>Existcr</th>\n",
              "      <th>Job</th>\n",
              "      <th>Depends</th>\n",
              "      <th>Telephone</th>\n",
              "      <th>Foreign</th>\n",
              "      <th>Bad</th>\n",
              "      <th>Good</th>\n",
              "    </tr>\n",
              "  </thead>\n",
              "  <tbody>\n",
              "    <tr>\n",
              "      <th>0</th>\n",
              "      <td>1</td>\n",
              "      <td>6</td>\n",
              "      <td>4</td>\n",
              "      <td>3</td>\n",
              "      <td>1169</td>\n",
              "      <td>5</td>\n",
              "      <td>5</td>\n",
              "      <td>4</td>\n",
              "      <td>3</td>\n",
              "      <td>1</td>\n",
              "      <td>...</td>\n",
              "      <td>67</td>\n",
              "      <td>3</td>\n",
              "      <td>2</td>\n",
              "      <td>2</td>\n",
              "      <td>3</td>\n",
              "      <td>1</td>\n",
              "      <td>2</td>\n",
              "      <td>1</td>\n",
              "      <td>0</td>\n",
              "      <td>1</td>\n",
              "    </tr>\n",
              "    <tr>\n",
              "      <th>1</th>\n",
              "      <td>2</td>\n",
              "      <td>48</td>\n",
              "      <td>2</td>\n",
              "      <td>3</td>\n",
              "      <td>5951</td>\n",
              "      <td>1</td>\n",
              "      <td>3</td>\n",
              "      <td>2</td>\n",
              "      <td>2</td>\n",
              "      <td>1</td>\n",
              "      <td>...</td>\n",
              "      <td>22</td>\n",
              "      <td>3</td>\n",
              "      <td>2</td>\n",
              "      <td>1</td>\n",
              "      <td>3</td>\n",
              "      <td>1</td>\n",
              "      <td>1</td>\n",
              "      <td>1</td>\n",
              "      <td>1</td>\n",
              "      <td>0</td>\n",
              "    </tr>\n",
              "    <tr>\n",
              "      <th>2</th>\n",
              "      <td>4</td>\n",
              "      <td>12</td>\n",
              "      <td>4</td>\n",
              "      <td>6</td>\n",
              "      <td>2096</td>\n",
              "      <td>1</td>\n",
              "      <td>4</td>\n",
              "      <td>2</td>\n",
              "      <td>3</td>\n",
              "      <td>1</td>\n",
              "      <td>...</td>\n",
              "      <td>49</td>\n",
              "      <td>3</td>\n",
              "      <td>2</td>\n",
              "      <td>1</td>\n",
              "      <td>2</td>\n",
              "      <td>2</td>\n",
              "      <td>1</td>\n",
              "      <td>1</td>\n",
              "      <td>0</td>\n",
              "      <td>1</td>\n",
              "    </tr>\n",
              "    <tr>\n",
              "      <th>3</th>\n",
              "      <td>1</td>\n",
              "      <td>42</td>\n",
              "      <td>2</td>\n",
              "      <td>2</td>\n",
              "      <td>7882</td>\n",
              "      <td>1</td>\n",
              "      <td>4</td>\n",
              "      <td>2</td>\n",
              "      <td>3</td>\n",
              "      <td>3</td>\n",
              "      <td>...</td>\n",
              "      <td>45</td>\n",
              "      <td>3</td>\n",
              "      <td>3</td>\n",
              "      <td>1</td>\n",
              "      <td>3</td>\n",
              "      <td>2</td>\n",
              "      <td>1</td>\n",
              "      <td>1</td>\n",
              "      <td>0</td>\n",
              "      <td>1</td>\n",
              "    </tr>\n",
              "    <tr>\n",
              "      <th>4</th>\n",
              "      <td>1</td>\n",
              "      <td>24</td>\n",
              "      <td>3</td>\n",
              "      <td>0</td>\n",
              "      <td>4870</td>\n",
              "      <td>1</td>\n",
              "      <td>3</td>\n",
              "      <td>3</td>\n",
              "      <td>3</td>\n",
              "      <td>1</td>\n",
              "      <td>...</td>\n",
              "      <td>53</td>\n",
              "      <td>3</td>\n",
              "      <td>3</td>\n",
              "      <td>2</td>\n",
              "      <td>3</td>\n",
              "      <td>2</td>\n",
              "      <td>1</td>\n",
              "      <td>1</td>\n",
              "      <td>1</td>\n",
              "      <td>0</td>\n",
              "    </tr>\n",
              "    <tr>\n",
              "      <th>...</th>\n",
              "      <td>...</td>\n",
              "      <td>...</td>\n",
              "      <td>...</td>\n",
              "      <td>...</td>\n",
              "      <td>...</td>\n",
              "      <td>...</td>\n",
              "      <td>...</td>\n",
              "      <td>...</td>\n",
              "      <td>...</td>\n",
              "      <td>...</td>\n",
              "      <td>...</td>\n",
              "      <td>...</td>\n",
              "      <td>...</td>\n",
              "      <td>...</td>\n",
              "      <td>...</td>\n",
              "      <td>...</td>\n",
              "      <td>...</td>\n",
              "      <td>...</td>\n",
              "      <td>...</td>\n",
              "      <td>...</td>\n",
              "      <td>...</td>\n",
              "    </tr>\n",
              "    <tr>\n",
              "      <th>995</th>\n",
              "      <td>4</td>\n",
              "      <td>12</td>\n",
              "      <td>2</td>\n",
              "      <td>2</td>\n",
              "      <td>1736</td>\n",
              "      <td>1</td>\n",
              "      <td>4</td>\n",
              "      <td>3</td>\n",
              "      <td>2</td>\n",
              "      <td>1</td>\n",
              "      <td>...</td>\n",
              "      <td>31</td>\n",
              "      <td>3</td>\n",
              "      <td>2</td>\n",
              "      <td>1</td>\n",
              "      <td>2</td>\n",
              "      <td>1</td>\n",
              "      <td>1</td>\n",
              "      <td>1</td>\n",
              "      <td>0</td>\n",
              "      <td>1</td>\n",
              "    </tr>\n",
              "    <tr>\n",
              "      <th>996</th>\n",
              "      <td>1</td>\n",
              "      <td>30</td>\n",
              "      <td>2</td>\n",
              "      <td>1</td>\n",
              "      <td>3857</td>\n",
              "      <td>1</td>\n",
              "      <td>3</td>\n",
              "      <td>4</td>\n",
              "      <td>1</td>\n",
              "      <td>1</td>\n",
              "      <td>...</td>\n",
              "      <td>40</td>\n",
              "      <td>3</td>\n",
              "      <td>2</td>\n",
              "      <td>1</td>\n",
              "      <td>4</td>\n",
              "      <td>1</td>\n",
              "      <td>2</td>\n",
              "      <td>1</td>\n",
              "      <td>0</td>\n",
              "      <td>1</td>\n",
              "    </tr>\n",
              "    <tr>\n",
              "      <th>997</th>\n",
              "      <td>4</td>\n",
              "      <td>12</td>\n",
              "      <td>2</td>\n",
              "      <td>3</td>\n",
              "      <td>804</td>\n",
              "      <td>1</td>\n",
              "      <td>5</td>\n",
              "      <td>4</td>\n",
              "      <td>3</td>\n",
              "      <td>1</td>\n",
              "      <td>...</td>\n",
              "      <td>38</td>\n",
              "      <td>3</td>\n",
              "      <td>2</td>\n",
              "      <td>1</td>\n",
              "      <td>3</td>\n",
              "      <td>1</td>\n",
              "      <td>1</td>\n",
              "      <td>1</td>\n",
              "      <td>0</td>\n",
              "      <td>1</td>\n",
              "    </tr>\n",
              "    <tr>\n",
              "      <th>998</th>\n",
              "      <td>1</td>\n",
              "      <td>45</td>\n",
              "      <td>2</td>\n",
              "      <td>3</td>\n",
              "      <td>1845</td>\n",
              "      <td>1</td>\n",
              "      <td>3</td>\n",
              "      <td>4</td>\n",
              "      <td>3</td>\n",
              "      <td>1</td>\n",
              "      <td>...</td>\n",
              "      <td>23</td>\n",
              "      <td>3</td>\n",
              "      <td>3</td>\n",
              "      <td>1</td>\n",
              "      <td>3</td>\n",
              "      <td>1</td>\n",
              "      <td>2</td>\n",
              "      <td>1</td>\n",
              "      <td>1</td>\n",
              "      <td>0</td>\n",
              "    </tr>\n",
              "    <tr>\n",
              "      <th>999</th>\n",
              "      <td>2</td>\n",
              "      <td>45</td>\n",
              "      <td>4</td>\n",
              "      <td>1</td>\n",
              "      <td>4576</td>\n",
              "      <td>2</td>\n",
              "      <td>1</td>\n",
              "      <td>3</td>\n",
              "      <td>3</td>\n",
              "      <td>1</td>\n",
              "      <td>...</td>\n",
              "      <td>27</td>\n",
              "      <td>3</td>\n",
              "      <td>2</td>\n",
              "      <td>1</td>\n",
              "      <td>3</td>\n",
              "      <td>1</td>\n",
              "      <td>1</td>\n",
              "      <td>1</td>\n",
              "      <td>0</td>\n",
              "      <td>1</td>\n",
              "    </tr>\n",
              "  </tbody>\n",
              "</table>\n",
              "<p>1000 rows × 22 columns</p>\n",
              "</div>\n",
              "      <button class=\"colab-df-convert\" onclick=\"convertToInteractive('df-f9a39e22-ba88-4630-94ab-a359fbaa7ae8')\"\n",
              "              title=\"Convert this dataframe to an interactive table.\"\n",
              "              style=\"display:none;\">\n",
              "        \n",
              "  <svg xmlns=\"http://www.w3.org/2000/svg\" height=\"24px\"viewBox=\"0 0 24 24\"\n",
              "       width=\"24px\">\n",
              "    <path d=\"M0 0h24v24H0V0z\" fill=\"none\"/>\n",
              "    <path d=\"M18.56 5.44l.94 2.06.94-2.06 2.06-.94-2.06-.94-.94-2.06-.94 2.06-2.06.94zm-11 1L8.5 8.5l.94-2.06 2.06-.94-2.06-.94L8.5 2.5l-.94 2.06-2.06.94zm10 10l.94 2.06.94-2.06 2.06-.94-2.06-.94-.94-2.06-.94 2.06-2.06.94z\"/><path d=\"M17.41 7.96l-1.37-1.37c-.4-.4-.92-.59-1.43-.59-.52 0-1.04.2-1.43.59L10.3 9.45l-7.72 7.72c-.78.78-.78 2.05 0 2.83L4 21.41c.39.39.9.59 1.41.59.51 0 1.02-.2 1.41-.59l7.78-7.78 2.81-2.81c.8-.78.8-2.07 0-2.86zM5.41 20L4 18.59l7.72-7.72 1.47 1.35L5.41 20z\"/>\n",
              "  </svg>\n",
              "      </button>\n",
              "      \n",
              "  <style>\n",
              "    .colab-df-container {\n",
              "      display:flex;\n",
              "      flex-wrap:wrap;\n",
              "      gap: 12px;\n",
              "    }\n",
              "\n",
              "    .colab-df-convert {\n",
              "      background-color: #E8F0FE;\n",
              "      border: none;\n",
              "      border-radius: 50%;\n",
              "      cursor: pointer;\n",
              "      display: none;\n",
              "      fill: #1967D2;\n",
              "      height: 32px;\n",
              "      padding: 0 0 0 0;\n",
              "      width: 32px;\n",
              "    }\n",
              "\n",
              "    .colab-df-convert:hover {\n",
              "      background-color: #E2EBFA;\n",
              "      box-shadow: 0px 1px 2px rgba(60, 64, 67, 0.3), 0px 1px 3px 1px rgba(60, 64, 67, 0.15);\n",
              "      fill: #174EA6;\n",
              "    }\n",
              "\n",
              "    [theme=dark] .colab-df-convert {\n",
              "      background-color: #3B4455;\n",
              "      fill: #D2E3FC;\n",
              "    }\n",
              "\n",
              "    [theme=dark] .colab-df-convert:hover {\n",
              "      background-color: #434B5C;\n",
              "      box-shadow: 0px 1px 3px 1px rgba(0, 0, 0, 0.15);\n",
              "      filter: drop-shadow(0px 1px 2px rgba(0, 0, 0, 0.3));\n",
              "      fill: #FFFFFF;\n",
              "    }\n",
              "  </style>\n",
              "\n",
              "      <script>\n",
              "        const buttonEl =\n",
              "          document.querySelector('#df-f9a39e22-ba88-4630-94ab-a359fbaa7ae8 button.colab-df-convert');\n",
              "        buttonEl.style.display =\n",
              "          google.colab.kernel.accessAllowed ? 'block' : 'none';\n",
              "\n",
              "        async function convertToInteractive(key) {\n",
              "          const element = document.querySelector('#df-f9a39e22-ba88-4630-94ab-a359fbaa7ae8');\n",
              "          const dataTable =\n",
              "            await google.colab.kernel.invokeFunction('convertToInteractive',\n",
              "                                                     [key], {});\n",
              "          if (!dataTable) return;\n",
              "\n",
              "          const docLinkHtml = 'Like what you see? Visit the ' +\n",
              "            '<a target=\"_blank\" href=https://colab.research.google.com/notebooks/data_table.ipynb>data table notebook</a>'\n",
              "            + ' to learn more about interactive tables.';\n",
              "          element.innerHTML = '';\n",
              "          dataTable['output_type'] = 'display_data';\n",
              "          await google.colab.output.renderOutput(dataTable, element);\n",
              "          const docLink = document.createElement('div');\n",
              "          docLink.innerHTML = docLinkHtml;\n",
              "          element.appendChild(docLink);\n",
              "        }\n",
              "      </script>\n",
              "    </div>\n",
              "  </div>\n",
              "  "
            ]
          },
          "metadata": {},
          "execution_count": 3
        }
      ],
      "source": [
        "data"
      ]
    },
    {
      "cell_type": "code",
      "execution_count": null,
      "id": "c47a22d0",
      "metadata": {
        "colab": {
          "base_uri": "https://localhost:8080/"
        },
        "id": "c47a22d0",
        "outputId": "e249b36f-0a91-4075-8358-e4136c1ea894"
      },
      "outputs": [
        {
          "output_type": "execute_result",
          "data": {
            "text/plain": [
              "0    700\n",
              "1    300\n",
              "Name: Bad, dtype: int64"
            ]
          },
          "metadata": {},
          "execution_count": 4
        }
      ],
      "source": [
        "data['Good'].value_counts()\n",
        "data['Bad'].value_counts()\n"
      ]
    },
    {
      "cell_type": "code",
      "execution_count": null,
      "id": "c3239215",
      "metadata": {
        "colab": {
          "base_uri": "https://localhost:8080/"
        },
        "id": "c3239215",
        "outputId": "5f7e1039-5a4e-47d3-866e-69858b00b870"
      },
      "outputs": [
        {
          "output_type": "stream",
          "name": "stdout",
          "text": [
            "<class 'pandas.core.frame.DataFrame'>\n",
            "RangeIndex: 1000 entries, 0 to 999\n",
            "Data columns (total 22 columns):\n",
            " #   Column     Non-Null Count  Dtype \n",
            "---  ------     --------------  ----- \n",
            " 0   Checking   1000 non-null   int64 \n",
            " 1   Duration   1000 non-null   int64 \n",
            " 2   History    1000 non-null   int64 \n",
            " 3   Purpose    1000 non-null   object\n",
            " 4   Amount     1000 non-null   int64 \n",
            " 5   Savings    1000 non-null   int64 \n",
            " 6   Emploed    1000 non-null   int64 \n",
            " 7   Installp   1000 non-null   int64 \n",
            " 8   marital    1000 non-null   int64 \n",
            " 9   Coapp      1000 non-null   int64 \n",
            " 10  Resident   1000 non-null   int64 \n",
            " 11  Property   1000 non-null   int64 \n",
            " 12  Age        1000 non-null   int64 \n",
            " 13  Other      1000 non-null   int64 \n",
            " 14  housing    1000 non-null   int64 \n",
            " 15  Existcr    1000 non-null   int64 \n",
            " 16  Job        1000 non-null   int64 \n",
            " 17  Depends    1000 non-null   int64 \n",
            " 18  Telephone  1000 non-null   int64 \n",
            " 19  Foreign    1000 non-null   int64 \n",
            " 20  Bad        1000 non-null   int64 \n",
            " 21  Good       1000 non-null   int64 \n",
            "dtypes: int64(21), object(1)\n",
            "memory usage: 172.0+ KB\n"
          ]
        }
      ],
      "source": [
        "data.info()"
      ]
    },
    {
      "cell_type": "code",
      "execution_count": null,
      "id": "fd57de98",
      "metadata": {
        "colab": {
          "base_uri": "https://localhost:8080/"
        },
        "id": "fd57de98",
        "outputId": "2ead32a0-8e71-4b72-9578-fa508ce4b18c"
      },
      "outputs": [
        {
          "output_type": "stream",
          "name": "stdout",
          "text": [
            "------------------------------------------ ------------------------------------------\n",
            "| Subset1 Info                           | Subset2 Info                           |\n",
            "------------------------------------------ ------------------------------------------\n",
            "| <class 'pandas.core.frame.DataFrame'>  | <class 'pandas.core.frame.DataFrame'>  |\n",
            "| Int64Index: 543 entries, 0 to 999      | Int64Index: 457 entries, 2 to 997      |\n",
            "| Data columns (total 22 columns):       | Data columns (total 22 columns):       |\n",
            "|  #   Column     Non-Null Count  Dtype  |  #   Column     Non-Null Count  Dtype  |\n",
            "| ---  ------     --------------  -----  | ---  ------     --------------  -----  |\n",
            "|  0   Checking   543 non-null    int64  |  0   Checking   457 non-null    int64  |\n",
            "|  1   Duration   543 non-null    int64  |  1   Duration   457 non-null    int64  |\n",
            "|  2   History    543 non-null    int64  |  2   History    457 non-null    int64  |\n",
            "|  3   Purpose    543 non-null    object |  3   Purpose    457 non-null    object |\n",
            "|  4   Amount     543 non-null    int64  |  4   Amount     457 non-null    int64  |\n",
            "|  5   Savings    543 non-null    int64  |  5   Savings    457 non-null    int64  |\n",
            "|  6   Emploed    543 non-null    int64  |  6   Emploed    457 non-null    int64  |\n",
            "|  7   Installp   543 non-null    int64  |  7   Installp   457 non-null    int64  |\n",
            "|  8   marital    543 non-null    int64  |  8   marital    457 non-null    int64  |\n",
            "|  9   Coapp      543 non-null    int64  |  9   Coapp      457 non-null    int64  |\n",
            "|  10  Resident   543 non-null    int64  |  10  Resident   457 non-null    int64  |\n",
            "|  11  Property   543 non-null    int64  |  11  Property   457 non-null    int64  |\n",
            "|  12  Age        543 non-null    int64  |  12  Age        457 non-null    int64  |\n",
            "|  13  Other      543 non-null    int64  |  13  Other      457 non-null    int64  |\n",
            "|  14  housing    543 non-null    int64  |  14  housing    457 non-null    int64  |\n",
            "|  15  Existcr    543 non-null    int64  |  15  Existcr    457 non-null    int64  |\n",
            "|  16  Job        543 non-null    int64  |  16  Job        457 non-null    int64  |\n",
            "|  17  Depends    543 non-null    int64  |  17  Depends    457 non-null    int64  |\n",
            "|  18  Telephone  543 non-null    int64  |  18  Telephone  457 non-null    int64  |\n",
            "|  19  Foreign    543 non-null    int64  |  19  Foreign    457 non-null    int64  |\n",
            "|  20  Bad        543 non-null    int64  |  20  Bad        457 non-null    int64  |\n",
            "|  21  Good       543 non-null    int64  |  21  Good       457 non-null    int64  |\n",
            "| dtypes: int64(21), object(1)           | dtypes: int64(21), object(1)           |\n",
            "| memory usage: 97.6+ KB                 | memory usage: 82.1+ KB                 |\n",
            "|                                        |                                        |\n",
            "------------------------------------------ ------------------------------------------\n"
          ]
        }
      ],
      "source": [
        "import io\n",
        "from contextlib import redirect_stdout\n",
        "\n",
        "# Capture the output of subset1.info() and subset2.info()\n",
        "with io.StringIO() as subset1_info, io.StringIO() as subset2_info:\n",
        "    with redirect_stdout(subset1_info):\n",
        "        subset1.info()\n",
        "    with redirect_stdout(subset2_info):\n",
        "        subset2.info()\n",
        "\n",
        "    subset1_info_lines = subset1_info.getvalue().split(\"\\n\")\n",
        "    subset2_info_lines = subset2_info.getvalue().split(\"\\n\")\n",
        "\n",
        "# Find the maximum line length for formatting\n",
        "max_length = max([len(info) for info in subset1_info_lines])\n",
        "\n",
        "# Print titles with a border\n",
        "print(f\"{'-' * (max_length + 4)} {'-' * (max_length + 4)}\")\n",
        "print(f\"| {'Subset1 Info':<{max_length}} | {'Subset2 Info':<{max_length}} |\")\n",
        "print(f\"{'-' * (max_length + 4)} {'-' * (max_length + 4)}\")\n",
        "\n",
        "# Print the lines side by side with a border\n",
        "for info1, info2 in zip(subset1_info_lines, subset2_info_lines):\n",
        "    print(f\"| {info1:<{max_length}} | {info2:<{max_length}} |\")\n",
        "\n",
        "# Print the bottom border\n",
        "print(f\"{'-' * (max_length + 4)} {'-' * (max_length + 4)}\")\n"
      ]
    },
    {
      "cell_type": "code",
      "execution_count": null,
      "id": "d4e3df96",
      "metadata": {
        "colab": {
          "base_uri": "https://localhost:8080/"
        },
        "id": "d4e3df96",
        "outputId": "8d264e43-380e-40c8-e12f-7cdb1a4882e6"
      },
      "outputs": [
        {
          "output_type": "execute_result",
          "data": {
            "text/plain": [
              "4    394\n",
              "1    274\n",
              "2    269\n",
              "3     63\n",
              "Name: Checking, dtype: int64"
            ]
          },
          "metadata": {},
          "execution_count": 7
        }
      ],
      "source": [
        "data['Checking'].value_counts()"
      ]
    },
    {
      "cell_type": "code",
      "execution_count": null,
      "id": "59f46db2",
      "metadata": {
        "colab": {
          "base_uri": "https://localhost:8080/",
          "height": 424
        },
        "id": "59f46db2",
        "outputId": "ea08b37c-0d6a-4862-9509-0428e299d894"
      },
      "outputs": [
        {
          "output_type": "execute_result",
          "data": {
            "text/plain": [
              "     Checking  Duration  History Purpose  Amount  Savings  Emploed  Installp  \\\n",
              "1           2        48        2       3    5951        1        3         2   \n",
              "7           2        36        2       1    6948        1        3         2   \n",
              "9           2        30        4       0    5234        1        1         4   \n",
              "10          2        12        2       0    1295        1        2         3   \n",
              "12          2        12        2       3    1567        1        3         1   \n",
              "..        ...       ...      ...     ...     ...      ...      ...       ...   \n",
              "977         2        18        3       9    2427        5        5         4   \n",
              "979         2        15        1       0    1264        2        3         2   \n",
              "980         2        30        4       2    8386        1        4         2   \n",
              "989         2        24        4       3    1743        1        5         4   \n",
              "999         2        45        4       1    4576        2        1         3   \n",
              "\n",
              "     marital  Coapp  ...  Age  Other  housing  Existcr  Job  Depends  \\\n",
              "1          2      1  ...   22      3        2        1    3        1   \n",
              "7          3      1  ...   35      3        1        1    4        1   \n",
              "9          4      1  ...   28      3        2        2    4        1   \n",
              "10         2      1  ...   25      3        1        1    3        1   \n",
              "12         2      1  ...   22      3        2        1    3        1   \n",
              "..       ...    ...  ...  ...    ...      ...      ...  ...      ...   \n",
              "977        3      1  ...   42      3        2        2    3        1   \n",
              "979        4      1  ...   25      3        1        1    3        1   \n",
              "980        3      1  ...   49      3        2        1    3        1   \n",
              "989        3      1  ...   48      3        2        2    2        1   \n",
              "999        3      1  ...   27      3        2        1    3        1   \n",
              "\n",
              "     Telephone  Foreign  Bad  Good  \n",
              "1            1        1    1     0  \n",
              "7            2        1    0     1  \n",
              "9            1        1    1     0  \n",
              "10           1        1    1     0  \n",
              "12           2        1    0     1  \n",
              "..         ...      ...  ...   ...  \n",
              "977          1        1    0     1  \n",
              "979          1        1    1     0  \n",
              "980          1        1    1     0  \n",
              "989          1        1    0     1  \n",
              "999          1        1    0     1  \n",
              "\n",
              "[269 rows x 22 columns]"
            ],
            "text/html": [
              "\n",
              "  <div id=\"df-ab908e10-6217-4ca9-833e-47070b589a49\">\n",
              "    <div class=\"colab-df-container\">\n",
              "      <div>\n",
              "<style scoped>\n",
              "    .dataframe tbody tr th:only-of-type {\n",
              "        vertical-align: middle;\n",
              "    }\n",
              "\n",
              "    .dataframe tbody tr th {\n",
              "        vertical-align: top;\n",
              "    }\n",
              "\n",
              "    .dataframe thead th {\n",
              "        text-align: right;\n",
              "    }\n",
              "</style>\n",
              "<table border=\"1\" class=\"dataframe\">\n",
              "  <thead>\n",
              "    <tr style=\"text-align: right;\">\n",
              "      <th></th>\n",
              "      <th>Checking</th>\n",
              "      <th>Duration</th>\n",
              "      <th>History</th>\n",
              "      <th>Purpose</th>\n",
              "      <th>Amount</th>\n",
              "      <th>Savings</th>\n",
              "      <th>Emploed</th>\n",
              "      <th>Installp</th>\n",
              "      <th>marital</th>\n",
              "      <th>Coapp</th>\n",
              "      <th>...</th>\n",
              "      <th>Age</th>\n",
              "      <th>Other</th>\n",
              "      <th>housing</th>\n",
              "      <th>Existcr</th>\n",
              "      <th>Job</th>\n",
              "      <th>Depends</th>\n",
              "      <th>Telephone</th>\n",
              "      <th>Foreign</th>\n",
              "      <th>Bad</th>\n",
              "      <th>Good</th>\n",
              "    </tr>\n",
              "  </thead>\n",
              "  <tbody>\n",
              "    <tr>\n",
              "      <th>1</th>\n",
              "      <td>2</td>\n",
              "      <td>48</td>\n",
              "      <td>2</td>\n",
              "      <td>3</td>\n",
              "      <td>5951</td>\n",
              "      <td>1</td>\n",
              "      <td>3</td>\n",
              "      <td>2</td>\n",
              "      <td>2</td>\n",
              "      <td>1</td>\n",
              "      <td>...</td>\n",
              "      <td>22</td>\n",
              "      <td>3</td>\n",
              "      <td>2</td>\n",
              "      <td>1</td>\n",
              "      <td>3</td>\n",
              "      <td>1</td>\n",
              "      <td>1</td>\n",
              "      <td>1</td>\n",
              "      <td>1</td>\n",
              "      <td>0</td>\n",
              "    </tr>\n",
              "    <tr>\n",
              "      <th>7</th>\n",
              "      <td>2</td>\n",
              "      <td>36</td>\n",
              "      <td>2</td>\n",
              "      <td>1</td>\n",
              "      <td>6948</td>\n",
              "      <td>1</td>\n",
              "      <td>3</td>\n",
              "      <td>2</td>\n",
              "      <td>3</td>\n",
              "      <td>1</td>\n",
              "      <td>...</td>\n",
              "      <td>35</td>\n",
              "      <td>3</td>\n",
              "      <td>1</td>\n",
              "      <td>1</td>\n",
              "      <td>4</td>\n",
              "      <td>1</td>\n",
              "      <td>2</td>\n",
              "      <td>1</td>\n",
              "      <td>0</td>\n",
              "      <td>1</td>\n",
              "    </tr>\n",
              "    <tr>\n",
              "      <th>9</th>\n",
              "      <td>2</td>\n",
              "      <td>30</td>\n",
              "      <td>4</td>\n",
              "      <td>0</td>\n",
              "      <td>5234</td>\n",
              "      <td>1</td>\n",
              "      <td>1</td>\n",
              "      <td>4</td>\n",
              "      <td>4</td>\n",
              "      <td>1</td>\n",
              "      <td>...</td>\n",
              "      <td>28</td>\n",
              "      <td>3</td>\n",
              "      <td>2</td>\n",
              "      <td>2</td>\n",
              "      <td>4</td>\n",
              "      <td>1</td>\n",
              "      <td>1</td>\n",
              "      <td>1</td>\n",
              "      <td>1</td>\n",
              "      <td>0</td>\n",
              "    </tr>\n",
              "    <tr>\n",
              "      <th>10</th>\n",
              "      <td>2</td>\n",
              "      <td>12</td>\n",
              "      <td>2</td>\n",
              "      <td>0</td>\n",
              "      <td>1295</td>\n",
              "      <td>1</td>\n",
              "      <td>2</td>\n",
              "      <td>3</td>\n",
              "      <td>2</td>\n",
              "      <td>1</td>\n",
              "      <td>...</td>\n",
              "      <td>25</td>\n",
              "      <td>3</td>\n",
              "      <td>1</td>\n",
              "      <td>1</td>\n",
              "      <td>3</td>\n",
              "      <td>1</td>\n",
              "      <td>1</td>\n",
              "      <td>1</td>\n",
              "      <td>1</td>\n",
              "      <td>0</td>\n",
              "    </tr>\n",
              "    <tr>\n",
              "      <th>12</th>\n",
              "      <td>2</td>\n",
              "      <td>12</td>\n",
              "      <td>2</td>\n",
              "      <td>3</td>\n",
              "      <td>1567</td>\n",
              "      <td>1</td>\n",
              "      <td>3</td>\n",
              "      <td>1</td>\n",
              "      <td>2</td>\n",
              "      <td>1</td>\n",
              "      <td>...</td>\n",
              "      <td>22</td>\n",
              "      <td>3</td>\n",
              "      <td>2</td>\n",
              "      <td>1</td>\n",
              "      <td>3</td>\n",
              "      <td>1</td>\n",
              "      <td>2</td>\n",
              "      <td>1</td>\n",
              "      <td>0</td>\n",
              "      <td>1</td>\n",
              "    </tr>\n",
              "    <tr>\n",
              "      <th>...</th>\n",
              "      <td>...</td>\n",
              "      <td>...</td>\n",
              "      <td>...</td>\n",
              "      <td>...</td>\n",
              "      <td>...</td>\n",
              "      <td>...</td>\n",
              "      <td>...</td>\n",
              "      <td>...</td>\n",
              "      <td>...</td>\n",
              "      <td>...</td>\n",
              "      <td>...</td>\n",
              "      <td>...</td>\n",
              "      <td>...</td>\n",
              "      <td>...</td>\n",
              "      <td>...</td>\n",
              "      <td>...</td>\n",
              "      <td>...</td>\n",
              "      <td>...</td>\n",
              "      <td>...</td>\n",
              "      <td>...</td>\n",
              "      <td>...</td>\n",
              "    </tr>\n",
              "    <tr>\n",
              "      <th>977</th>\n",
              "      <td>2</td>\n",
              "      <td>18</td>\n",
              "      <td>3</td>\n",
              "      <td>9</td>\n",
              "      <td>2427</td>\n",
              "      <td>5</td>\n",
              "      <td>5</td>\n",
              "      <td>4</td>\n",
              "      <td>3</td>\n",
              "      <td>1</td>\n",
              "      <td>...</td>\n",
              "      <td>42</td>\n",
              "      <td>3</td>\n",
              "      <td>2</td>\n",
              "      <td>2</td>\n",
              "      <td>3</td>\n",
              "      <td>1</td>\n",
              "      <td>1</td>\n",
              "      <td>1</td>\n",
              "      <td>0</td>\n",
              "      <td>1</td>\n",
              "    </tr>\n",
              "    <tr>\n",
              "      <th>979</th>\n",
              "      <td>2</td>\n",
              "      <td>15</td>\n",
              "      <td>1</td>\n",
              "      <td>0</td>\n",
              "      <td>1264</td>\n",
              "      <td>2</td>\n",
              "      <td>3</td>\n",
              "      <td>2</td>\n",
              "      <td>4</td>\n",
              "      <td>1</td>\n",
              "      <td>...</td>\n",
              "      <td>25</td>\n",
              "      <td>3</td>\n",
              "      <td>1</td>\n",
              "      <td>1</td>\n",
              "      <td>3</td>\n",
              "      <td>1</td>\n",
              "      <td>1</td>\n",
              "      <td>1</td>\n",
              "      <td>1</td>\n",
              "      <td>0</td>\n",
              "    </tr>\n",
              "    <tr>\n",
              "      <th>980</th>\n",
              "      <td>2</td>\n",
              "      <td>30</td>\n",
              "      <td>4</td>\n",
              "      <td>2</td>\n",
              "      <td>8386</td>\n",
              "      <td>1</td>\n",
              "      <td>4</td>\n",
              "      <td>2</td>\n",
              "      <td>3</td>\n",
              "      <td>1</td>\n",
              "      <td>...</td>\n",
              "      <td>49</td>\n",
              "      <td>3</td>\n",
              "      <td>2</td>\n",
              "      <td>1</td>\n",
              "      <td>3</td>\n",
              "      <td>1</td>\n",
              "      <td>1</td>\n",
              "      <td>1</td>\n",
              "      <td>1</td>\n",
              "      <td>0</td>\n",
              "    </tr>\n",
              "    <tr>\n",
              "      <th>989</th>\n",
              "      <td>2</td>\n",
              "      <td>24</td>\n",
              "      <td>4</td>\n",
              "      <td>3</td>\n",
              "      <td>1743</td>\n",
              "      <td>1</td>\n",
              "      <td>5</td>\n",
              "      <td>4</td>\n",
              "      <td>3</td>\n",
              "      <td>1</td>\n",
              "      <td>...</td>\n",
              "      <td>48</td>\n",
              "      <td>3</td>\n",
              "      <td>2</td>\n",
              "      <td>2</td>\n",
              "      <td>2</td>\n",
              "      <td>1</td>\n",
              "      <td>1</td>\n",
              "      <td>1</td>\n",
              "      <td>0</td>\n",
              "      <td>1</td>\n",
              "    </tr>\n",
              "    <tr>\n",
              "      <th>999</th>\n",
              "      <td>2</td>\n",
              "      <td>45</td>\n",
              "      <td>4</td>\n",
              "      <td>1</td>\n",
              "      <td>4576</td>\n",
              "      <td>2</td>\n",
              "      <td>1</td>\n",
              "      <td>3</td>\n",
              "      <td>3</td>\n",
              "      <td>1</td>\n",
              "      <td>...</td>\n",
              "      <td>27</td>\n",
              "      <td>3</td>\n",
              "      <td>2</td>\n",
              "      <td>1</td>\n",
              "      <td>3</td>\n",
              "      <td>1</td>\n",
              "      <td>1</td>\n",
              "      <td>1</td>\n",
              "      <td>0</td>\n",
              "      <td>1</td>\n",
              "    </tr>\n",
              "  </tbody>\n",
              "</table>\n",
              "<p>269 rows × 22 columns</p>\n",
              "</div>\n",
              "      <button class=\"colab-df-convert\" onclick=\"convertToInteractive('df-ab908e10-6217-4ca9-833e-47070b589a49')\"\n",
              "              title=\"Convert this dataframe to an interactive table.\"\n",
              "              style=\"display:none;\">\n",
              "        \n",
              "  <svg xmlns=\"http://www.w3.org/2000/svg\" height=\"24px\"viewBox=\"0 0 24 24\"\n",
              "       width=\"24px\">\n",
              "    <path d=\"M0 0h24v24H0V0z\" fill=\"none\"/>\n",
              "    <path d=\"M18.56 5.44l.94 2.06.94-2.06 2.06-.94-2.06-.94-.94-2.06-.94 2.06-2.06.94zm-11 1L8.5 8.5l.94-2.06 2.06-.94-2.06-.94L8.5 2.5l-.94 2.06-2.06.94zm10 10l.94 2.06.94-2.06 2.06-.94-2.06-.94-.94-2.06-.94 2.06-2.06.94z\"/><path d=\"M17.41 7.96l-1.37-1.37c-.4-.4-.92-.59-1.43-.59-.52 0-1.04.2-1.43.59L10.3 9.45l-7.72 7.72c-.78.78-.78 2.05 0 2.83L4 21.41c.39.39.9.59 1.41.59.51 0 1.02-.2 1.41-.59l7.78-7.78 2.81-2.81c.8-.78.8-2.07 0-2.86zM5.41 20L4 18.59l7.72-7.72 1.47 1.35L5.41 20z\"/>\n",
              "  </svg>\n",
              "      </button>\n",
              "      \n",
              "  <style>\n",
              "    .colab-df-container {\n",
              "      display:flex;\n",
              "      flex-wrap:wrap;\n",
              "      gap: 12px;\n",
              "    }\n",
              "\n",
              "    .colab-df-convert {\n",
              "      background-color: #E8F0FE;\n",
              "      border: none;\n",
              "      border-radius: 50%;\n",
              "      cursor: pointer;\n",
              "      display: none;\n",
              "      fill: #1967D2;\n",
              "      height: 32px;\n",
              "      padding: 0 0 0 0;\n",
              "      width: 32px;\n",
              "    }\n",
              "\n",
              "    .colab-df-convert:hover {\n",
              "      background-color: #E2EBFA;\n",
              "      box-shadow: 0px 1px 2px rgba(60, 64, 67, 0.3), 0px 1px 3px 1px rgba(60, 64, 67, 0.15);\n",
              "      fill: #174EA6;\n",
              "    }\n",
              "\n",
              "    [theme=dark] .colab-df-convert {\n",
              "      background-color: #3B4455;\n",
              "      fill: #D2E3FC;\n",
              "    }\n",
              "\n",
              "    [theme=dark] .colab-df-convert:hover {\n",
              "      background-color: #434B5C;\n",
              "      box-shadow: 0px 1px 3px 1px rgba(0, 0, 0, 0.15);\n",
              "      filter: drop-shadow(0px 1px 2px rgba(0, 0, 0, 0.3));\n",
              "      fill: #FFFFFF;\n",
              "    }\n",
              "  </style>\n",
              "\n",
              "      <script>\n",
              "        const buttonEl =\n",
              "          document.querySelector('#df-ab908e10-6217-4ca9-833e-47070b589a49 button.colab-df-convert');\n",
              "        buttonEl.style.display =\n",
              "          google.colab.kernel.accessAllowed ? 'block' : 'none';\n",
              "\n",
              "        async function convertToInteractive(key) {\n",
              "          const element = document.querySelector('#df-ab908e10-6217-4ca9-833e-47070b589a49');\n",
              "          const dataTable =\n",
              "            await google.colab.kernel.invokeFunction('convertToInteractive',\n",
              "                                                     [key], {});\n",
              "          if (!dataTable) return;\n",
              "\n",
              "          const docLinkHtml = 'Like what you see? Visit the ' +\n",
              "            '<a target=\"_blank\" href=https://colab.research.google.com/notebooks/data_table.ipynb>data table notebook</a>'\n",
              "            + ' to learn more about interactive tables.';\n",
              "          element.innerHTML = '';\n",
              "          dataTable['output_type'] = 'display_data';\n",
              "          await google.colab.output.renderOutput(dataTable, element);\n",
              "          const docLink = document.createElement('div');\n",
              "          docLink.innerHTML = docLinkHtml;\n",
              "          element.appendChild(docLink);\n",
              "        }\n",
              "      </script>\n",
              "    </div>\n",
              "  </div>\n",
              "  "
            ]
          },
          "metadata": {},
          "execution_count": 8
        }
      ],
      "source": [
        "data.loc[data['Checking'] == 2]"
      ]
    },
    {
      "cell_type": "code",
      "execution_count": null,
      "id": "2bc47620",
      "metadata": {
        "scrolled": false,
        "colab": {
          "base_uri": "https://localhost:8080/"
        },
        "id": "2bc47620",
        "outputId": "30abc264-4c20-4241-8544-fcf611acc72a"
      },
      "outputs": [
        {
          "output_type": "execute_result",
          "data": {
            "text/plain": [
              "3    280\n",
              "0    234\n",
              "2    181\n",
              "1    103\n",
              "9     97\n",
              "6     50\n",
              "5     22\n",
              "4     12\n",
              "X     12\n",
              "8      9\n",
              "Name: Purpose, dtype: int64"
            ]
          },
          "metadata": {},
          "execution_count": 9
        }
      ],
      "source": [
        "data['Purpose'].value_counts()"
      ]
    },
    {
      "cell_type": "code",
      "execution_count": null,
      "id": "bace1f66",
      "metadata": {
        "colab": {
          "base_uri": "https://localhost:8080/"
        },
        "id": "bace1f66",
        "outputId": "68138294-e7fb-47d3-8907-950f1a041685"
      },
      "outputs": [
        {
          "output_type": "execute_result",
          "data": {
            "text/plain": [
              "0    138\n",
              "3    129\n",
              "2    111\n",
              "9     55\n",
              "1     47\n",
              "6     26\n",
              "5     14\n",
              "X     11\n",
              "4      7\n",
              "8      5\n",
              "Name: Purpose, dtype: int64"
            ]
          },
          "metadata": {},
          "execution_count": 10
        }
      ],
      "source": [
        "subset1['Purpose'].value_counts()"
      ]
    },
    {
      "cell_type": "code",
      "execution_count": null,
      "id": "7dd08258",
      "metadata": {
        "colab": {
          "base_uri": "https://localhost:8080/"
        },
        "id": "7dd08258",
        "outputId": "7e407c8f-b1c2-465d-d1c9-c2a1004b3c2a"
      },
      "outputs": [
        {
          "output_type": "execute_result",
          "data": {
            "text/plain": [
              "3    151\n",
              "0     96\n",
              "2     70\n",
              "1     56\n",
              "9     42\n",
              "6     24\n",
              "5      8\n",
              "4      5\n",
              "8      4\n",
              "X      1\n",
              "Name: Purpose, dtype: int64"
            ]
          },
          "metadata": {},
          "execution_count": 11
        }
      ],
      "source": [
        "subset2['Purpose'].value_counts()"
      ]
    },
    {
      "cell_type": "code",
      "source": [
        "import io\n",
        "from contextlib import redirect_stdout\n",
        "\n",
        "# Capture the output of subset1['Purpose'].value_counts() and subset2['Purpose'].value_counts()\n",
        "with io.StringIO() as subset1_purpose, io.StringIO() as subset2_purpose:\n",
        "    with redirect_stdout(subset1_purpose):\n",
        "        print(subset1['Purpose'].value_counts())\n",
        "    with redirect_stdout(subset2_purpose):\n",
        "        print(subset2['Purpose'].value_counts())\n",
        "\n",
        "    subset1_purpose_lines = subset1_purpose.getvalue().split(\"\\n\")\n",
        "    subset2_purpose_lines = subset2_purpose.getvalue().split(\"\\n\")\n",
        "\n",
        "# Find the maximum line length for formatting\n",
        "max_length = max([len(purpose) for purpose in subset1_purpose_lines])\n",
        "\n",
        "# Print titles\n",
        "print(f\"{'Subset1 Purpose Value Counts':<{max_length}}   Subset2 Purpose Value Counts\")\n",
        "\n",
        "# Print the lines side by side\n",
        "for purpose1, purpose2 in zip(subset1_purpose_lines, subset2_purpose_lines):\n",
        "    print(f\"{purpose1:<{max_length}}    {purpose2}\")\n"
      ],
      "metadata": {
        "colab": {
          "base_uri": "https://localhost:8080/"
        },
        "id": "vD6Kv1MCqhWO",
        "outputId": "0fef9bf1-419c-45c7-e40a-b9e21980cc88"
      },
      "id": "vD6Kv1MCqhWO",
      "execution_count": null,
      "outputs": [
        {
          "output_type": "stream",
          "name": "stdout",
          "text": [
            "Subset1 Purpose Value Counts   Subset2 Purpose Value Counts\n",
            "0    138                       3    151\n",
            "3    129                       0     96\n",
            "2    111                       2     70\n",
            "9     55                       1     56\n",
            "1     47                       9     42\n",
            "6     26                       6     24\n",
            "5     14                       5      8\n",
            "X     11                       4      5\n",
            "4      7                       8      4\n",
            "8      5                       X      1\n",
            "Name: Purpose, dtype: int64    Name: Purpose, dtype: int64\n",
            "                               \n"
          ]
        }
      ]
    },
    {
      "cell_type": "code",
      "source": [
        "import matplotlib.pyplot as plt\n",
        "\n",
        "# Create bar charts for value counts of 'Purpose' in both subsets\n",
        "fig, (ax1, ax2) = plt.subplots(1, 2, figsize=(12, 5))\n",
        "\n",
        "subset1['Purpose'].value_counts().plot(kind='bar', ax=ax1)\n",
        "ax1.set_title('Subset1 Purpose Value Counts')\n",
        "ax1.set_xlabel('Purpose')\n",
        "ax1.set_ylabel('Count')\n",
        "\n",
        "subset2['Purpose'].value_counts().plot(kind='bar', ax=ax2)\n",
        "ax2.set_title('Subset2 Purpose Value Counts')\n",
        "ax2.set_xlabel('Purpose')\n",
        "ax2.set_ylabel('Count')\n",
        "\n",
        "plt.tight_layout()\n",
        "plt.savefig('purpose_value_counts.png')\n",
        "plt.show()\n"
      ],
      "metadata": {
        "id": "sGI0JA6HrL3D"
      },
      "id": "sGI0JA6HrL3D",
      "execution_count": null,
      "outputs": []
    },
    {
      "cell_type": "markdown",
      "id": "632a4970",
      "metadata": {
        "id": "632a4970"
      },
      "source": [
        "## Dropping rows with 'X' in Subset 1 and Subset 2"
      ]
    },
    {
      "cell_type": "code",
      "execution_count": null,
      "id": "cce804bb",
      "metadata": {
        "id": "cce804bb"
      },
      "outputs": [],
      "source": [
        "# Dropping rows with 'X' in 'Purpose' column for subset1\n",
        "subset1_cleaned = subset1[subset1['Purpose'] != 'X']"
      ]
    },
    {
      "cell_type": "code",
      "execution_count": null,
      "id": "51f6abc9",
      "metadata": {
        "colab": {
          "base_uri": "https://localhost:8080/"
        },
        "id": "51f6abc9",
        "outputId": "287483c0-eaec-4609-ed09-e402f277dd5b"
      },
      "outputs": [
        {
          "output_type": "execute_result",
          "data": {
            "text/plain": [
              "0    138\n",
              "3    129\n",
              "2    111\n",
              "9     55\n",
              "1     47\n",
              "6     26\n",
              "5     14\n",
              "4      7\n",
              "8      5\n",
              "Name: Purpose, dtype: int64"
            ]
          },
          "metadata": {},
          "execution_count": 15
        }
      ],
      "source": [
        "# Data frame\n",
        "subset1_cleaned['Purpose'].value_counts()"
      ]
    },
    {
      "cell_type": "code",
      "execution_count": null,
      "id": "121d4c95",
      "metadata": {
        "id": "121d4c95"
      },
      "outputs": [],
      "source": [
        "# Dropping rows with 'X' in 'Purpose' column for subset2\n",
        "subset2_cleaned = subset2[subset2['Purpose'] != 'X']\n"
      ]
    },
    {
      "cell_type": "code",
      "execution_count": null,
      "id": "c00c5d8b",
      "metadata": {
        "colab": {
          "base_uri": "https://localhost:8080/"
        },
        "id": "c00c5d8b",
        "outputId": "f270d8bf-e3ed-4588-cc26-2e3e5371ebeb"
      },
      "outputs": [
        {
          "output_type": "execute_result",
          "data": {
            "text/plain": [
              "3    151\n",
              "0     96\n",
              "2     70\n",
              "1     56\n",
              "9     42\n",
              "6     24\n",
              "5      8\n",
              "4      5\n",
              "8      4\n",
              "Name: Purpose, dtype: int64"
            ]
          },
          "metadata": {},
          "execution_count": 17
        }
      ],
      "source": [
        "subset2_cleaned['Purpose'].value_counts()"
      ]
    },
    {
      "cell_type": "markdown",
      "id": "e21908da",
      "metadata": {
        "id": "e21908da"
      },
      "source": [
        "## Outlier analysis"
      ]
    },
    {
      "cell_type": "code",
      "execution_count": null,
      "id": "3fecd73c",
      "metadata": {
        "scrolled": false,
        "id": "3fecd73c"
      },
      "outputs": [],
      "source": [
        "import pandas as pd\n",
        "import plotly.graph_objects as go\n",
        "from plotly.subplots import make_subplots\n",
        "\n",
        "# Replace subset1 and subset2 with your actual DataFrame names\n",
        "# Replace 'continuous_var1', 'continuous_var2', etc. with the column names of your continuous variables\n",
        "continuous_variables =  ['Duration', 'Amount', 'Installp', 'Resident', 'Age', 'Existcr', 'Depends']\n",
        "\n",
        "# Function to create subplots for a given set of continuous variables in a given subset\n",
        "def plot_subplots(subset, continuous_variables, subset_name):\n",
        "    num_vars = len(continuous_variables)\n",
        "    fig = make_subplots(cols=num_vars, subplot_titles=continuous_variables)\n",
        "\n",
        "    for i, var in enumerate(continuous_variables, start=1):\n",
        "        fig.add_trace(go.Box(y=subset[var], name=var, showlegend=False), col=i, row=1)\n",
        "\n",
        "    fig.update_layout(title=f'Box Plots for Continuous Variables in {subset_name}')\n",
        "    fig.show()\n",
        "\n",
        "# Create subplots for each continuous variable in both subsets\n",
        "plot_subplots(subset1_cleaned, continuous_variables, \"Subset 1\")\n",
        "plot_subplots(subset2_cleaned, continuous_variables, \"Subset 2\")\n",
        "\n",
        "\n"
      ]
    },
    {
      "cell_type": "code",
      "execution_count": null,
      "id": "0790bdcb",
      "metadata": {
        "id": "0790bdcb"
      },
      "outputs": [],
      "source": [
        "# Define a function to remove outliers based on the IQR method\n",
        "def remove_outliers(df, columns):\n",
        "    '''\n",
        "    This function removes outliers from a dataframe based on the Interquartile Range (IQR) method.\n",
        "\n",
        "    Parameters:\n",
        "        df (pandas dataframe): The dataframe to remove outliers from.\n",
        "        columns (list of str): The columns to remove outliers from.\n",
        "\n",
        "    Returns:\n",
        "        df_out (pandas dataframe): The cleaned dataframe with outliers removed.\n",
        "    '''\n",
        "    df_out = df.copy()\n",
        "    for col in columns:\n",
        "        Q1 = df_out[col].quantile(0.25) # First quartile\n",
        "        Q3 = df_out[col].quantile(0.75) # Third quartile\n",
        "        IQR = Q3 - Q1 # Interquartile range\n",
        "        lower_bound = Q1 - 1.5 * IQR # Lower bound for outliers\n",
        "        upper_bound = Q3 + 1.5 * IQR # Upper bound for outliers\n",
        "\n",
        "        df_out = df_out[(df_out[col] >= lower_bound) & (df_out[col] <= upper_bound)] # Remove outliers from dataframe\n",
        "\n",
        "    return df_out\n",
        "\n",
        "# List of columns to remove outliers from\n",
        "columns_to_remove_outliers = ['Duration', 'Amount', 'Age']\n",
        "\n",
        "# Remove outliers from subset1_cleaned and subset2_cleaned\n",
        "subset1_cleaned = remove_outliers(subset1_cleaned, columns_to_remove_outliers)\n",
        "subset2_cleaned = remove_outliers(subset2_cleaned, columns_to_remove_outliers)\n"
      ]
    },
    {
      "cell_type": "code",
      "execution_count": null,
      "id": "6b9962e6",
      "metadata": {
        "id": "6b9962e6"
      },
      "outputs": [],
      "source": [
        "# Replace subset1 and subset2 with your actual DataFrame names\n",
        "# Replace 'continuous_var1', 'continuous_var2', etc. with the column names of your continuous variables\n",
        "continuous_variables =  ['Duration', 'Amount', 'Installp', 'Resident', 'Age', 'Existcr', 'Depends']\n",
        "\n",
        "# Function to create subplots for a given set of continuous variables in a given subset\n",
        "def plot_subplots(subset, continuous_variables, subset_name):\n",
        "    num_vars = len(continuous_variables)\n",
        "    fig = make_subplots(cols=num_vars, subplot_titles=continuous_variables)\n",
        "\n",
        "    for i, var in enumerate(continuous_variables, start=1):\n",
        "        fig.add_trace(go.Box(y=subset[var], name=var, showlegend=False), col=i, row=1)\n",
        "\n",
        "    fig.update_layout(title=f'Box Plots for Continuous Variables in {subset_name}')\n",
        "    fig.show()\n",
        "\n",
        "# Create subplots for each continuous variable in both subsets\n",
        "plot_subplots(subset1_cleaned, continuous_variables, \"Subset 1\")\n",
        "plot_subplots(subset2_cleaned, continuous_variables, \"Subset 2\")\n",
        "\n",
        "\n"
      ]
    },
    {
      "cell_type": "markdown",
      "source": [
        "# Q2) Establishing Training set and Validation set"
      ],
      "metadata": {
        "id": "fF-k7SsezQYU"
      },
      "id": "fF-k7SsezQYU"
    },
    {
      "cell_type": "markdown",
      "id": "5dcf2ddb",
      "metadata": {
        "id": "5dcf2ddb"
      },
      "source": [
        "## Train and test split"
      ]
    },
    {
      "cell_type": "code",
      "execution_count": null,
      "id": "244dda5b",
      "metadata": {
        "id": "244dda5b"
      },
      "outputs": [],
      "source": [
        "import pandas as pd\n",
        "from sklearn.model_selection import train_test_split\n",
        "\n",
        "\n",
        "# Split subset1 using stratified sampling\n",
        "X1 = subset1_cleaned.drop(columns=['Bad', 'Good'])\n",
        "y1 = subset1_cleaned['Bad']  # 'Bad' is the target variable\n",
        "X1_train, X1_val, y1_train, y1_val = train_test_split(X1, y1, test_size=0.3, stratify=y1, random_state=42)\n",
        "\n",
        "# Split subset2 using stratified sampling\n",
        "X2 = subset2_cleaned.drop(columns=['Bad', 'Good'])\n",
        "y2 = subset2_cleaned['Bad']  # 'Bad' is the target variable\n",
        "X2_train, X2_val, y2_train, y2_val = train_test_split(X2, y2, test_size=0.3, stratify=y2, random_state=42)\n",
        "\n",
        "\n"
      ]
    },
    {
      "cell_type": "code",
      "execution_count": null,
      "id": "809f3160",
      "metadata": {
        "colab": {
          "base_uri": "https://localhost:8080/"
        },
        "id": "809f3160",
        "outputId": "1734fcf5-2554-4dee-9a73-269e838ab1a6"
      },
      "outputs": [
        {
          "output_type": "execute_result",
          "data": {
            "text/plain": [
              "0    188\n",
              "1    141\n",
              "Name: Bad, dtype: int64"
            ]
          },
          "metadata": {},
          "execution_count": 22
        }
      ],
      "source": [
        "y1_train.value_counts()\n"
      ]
    },
    {
      "cell_type": "code",
      "execution_count": null,
      "id": "14b7bedc",
      "metadata": {
        "colab": {
          "base_uri": "https://localhost:8080/"
        },
        "id": "14b7bedc",
        "outputId": "7867fc91-8376-480e-b928-85f372d1733b"
      },
      "outputs": [
        {
          "output_type": "execute_result",
          "data": {
            "text/plain": [
              "0    248\n",
              "1     32\n",
              "Name: Bad, dtype: int64"
            ]
          },
          "metadata": {},
          "execution_count": 23
        }
      ],
      "source": [
        "y2_train.value_counts()"
      ]
    },
    {
      "cell_type": "code",
      "execution_count": null,
      "id": "ee708209",
      "metadata": {
        "colab": {
          "base_uri": "https://localhost:8080/"
        },
        "id": "ee708209",
        "outputId": "c95ef38f-7494-4aa8-eef2-8dc9f323792f"
      },
      "outputs": [
        {
          "output_type": "execute_result",
          "data": {
            "text/plain": [
              "0    81\n",
              "1    60\n",
              "Name: Bad, dtype: int64"
            ]
          },
          "metadata": {},
          "execution_count": 24
        }
      ],
      "source": [
        "y1_val.value_counts()"
      ]
    },
    {
      "cell_type": "code",
      "execution_count": null,
      "id": "e987d7d5",
      "metadata": {
        "colab": {
          "base_uri": "https://localhost:8080/"
        },
        "id": "e987d7d5",
        "outputId": "8370942f-9b83-4248-b9fc-7282f2f1a7cb"
      },
      "outputs": [
        {
          "output_type": "execute_result",
          "data": {
            "text/plain": [
              "0    106\n",
              "1     14\n",
              "Name: Bad, dtype: int64"
            ]
          },
          "metadata": {},
          "execution_count": 25
        }
      ],
      "source": [
        "y2_val.value_counts()"
      ]
    },
    {
      "cell_type": "code",
      "execution_count": null,
      "id": "71977ea4",
      "metadata": {
        "colab": {
          "base_uri": "https://localhost:8080/"
        },
        "id": "71977ea4",
        "outputId": "7c0a3bbd-337d-4fba-8ffb-804877344c65"
      },
      "outputs": [
        {
          "output_type": "execute_result",
          "data": {
            "text/plain": [
              "0    303\n",
              "1    240\n",
              "Name: Bad, dtype: int64"
            ]
          },
          "metadata": {},
          "execution_count": 26
        }
      ],
      "source": [
        "subset1['Good'].value_counts()\n",
        "subset1['Bad'].value_counts()"
      ]
    },
    {
      "cell_type": "code",
      "execution_count": null,
      "id": "5825acce",
      "metadata": {
        "colab": {
          "base_uri": "https://localhost:8080/"
        },
        "id": "5825acce",
        "outputId": "0d66fa35-781d-4c24-d3e0-f29c045a3f77"
      },
      "outputs": [
        {
          "output_type": "execute_result",
          "data": {
            "text/plain": [
              "0    269\n",
              "1    201\n",
              "Name: Bad, dtype: int64"
            ]
          },
          "metadata": {},
          "execution_count": 27
        }
      ],
      "source": [
        "subset1_cleaned['Good'].value_counts()\n",
        "subset1_cleaned['Bad'].value_counts()"
      ]
    },
    {
      "cell_type": "code",
      "execution_count": null,
      "id": "7e0e51ea",
      "metadata": {
        "colab": {
          "base_uri": "https://localhost:8080/"
        },
        "id": "7e0e51ea",
        "outputId": "14eedccd-ee9a-4404-d2c6-fc1b90290e41"
      },
      "outputs": [
        {
          "output_type": "execute_result",
          "data": {
            "text/plain": [
              "0    397\n",
              "1     60\n",
              "Name: Bad, dtype: int64"
            ]
          },
          "metadata": {},
          "execution_count": 28
        }
      ],
      "source": [
        "subset2['Good'].value_counts()\n",
        "subset2['Bad'].value_counts()"
      ]
    },
    {
      "cell_type": "code",
      "execution_count": null,
      "id": "ae53f478",
      "metadata": {
        "colab": {
          "base_uri": "https://localhost:8080/"
        },
        "id": "ae53f478",
        "outputId": "b7ca5612-e93d-4ba1-ea25-055aee2db182"
      },
      "outputs": [
        {
          "output_type": "execute_result",
          "data": {
            "text/plain": [
              "0    354\n",
              "1     46\n",
              "Name: Bad, dtype: int64"
            ]
          },
          "metadata": {},
          "execution_count": 29
        }
      ],
      "source": [
        "subset2_cleaned['Good'].value_counts()\n",
        "subset2_cleaned['Bad'].value_counts()"
      ]
    },
    {
      "cell_type": "code",
      "execution_count": null,
      "id": "f4766796",
      "metadata": {
        "id": "f4766796"
      },
      "outputs": [],
      "source": [
        "import plotly.graph_objects as go\n",
        "\n",
        "# Count the number of Good and Bad applicants in each subset\n",
        "subset1_train_counts = y1_train.value_counts()\n",
        "subset2_train_counts = y2_train.value_counts()\n",
        "\n",
        "\n",
        "# Create the bar chart for Subset 1\n",
        "trace1 = go.Bar(\n",
        "    x=['Good', 'Bad'],\n",
        "    y=subset1_train_counts,\n",
        "    name='Subset 1 Training (Checking = 1 or 2)',\n",
        "    marker_color='rgb(55, 83, 109)'\n",
        ")\n",
        "\n",
        "# Create the bar chart for Subset 2\n",
        "trace2 = go.Bar(\n",
        "    x=['Good', 'Bad'],\n",
        "    y=subset2_train_counts,\n",
        "    name='Subset 2 Training (Checking = 3 or 4)',\n",
        "    marker_color='rgb(26, 118, 255)'\n",
        ")\n",
        "\n",
        "# Combine the bar charts and set the layout options\n",
        "data = [trace1, trace2]\n",
        "layout = go.Layout(\n",
        "    title='Distribution of Good and Bad Applicants in Training Sets',\n",
        "    xaxis=dict(title='Applicant Type'),\n",
        "    yaxis=dict(title='Count'),\n",
        "    barmode='group'\n",
        ")\n",
        "\n",
        "# Create the final figure and display it\n",
        "fig = go.Figure(data=data, layout=layout)\n",
        "fig.show()\n"
      ]
    },
    {
      "cell_type": "code",
      "execution_count": null,
      "id": "bf37d929",
      "metadata": {
        "id": "bf37d929"
      },
      "outputs": [],
      "source": [
        "# Count the number of Good and Bad applicants in the training and validation sets for both subsets\n",
        "subset1_val_counts = y1_val.value_counts()\n",
        "subset2_val_counts = y2_val.value_counts()\n",
        "\n",
        "# Create the bar charts for the training and validation sets\n",
        "trace1_train = go.Bar(\n",
        "    x=['Good', 'Bad'],\n",
        "    y=subset1_train_counts,\n",
        "    name='Subset 1 Train (Checking = 1 or 2)',\n",
        "    marker_color='rgb(55, 83, 109)',\n",
        "    opacity=0.6\n",
        ")\n",
        "\n",
        "trace1_val = go.Bar(\n",
        "    x=['Good', 'Bad'],\n",
        "    y=subset1_val_counts,\n",
        "    name='Subset 1 Validation (Checking = 1 or 2)',\n",
        "    marker_color='rgb(55, 83, 109)',\n",
        "    opacity=1\n",
        ")\n",
        "\n",
        "trace2_train = go.Bar(\n",
        "    x=['Good', 'Bad'],\n",
        "    y=subset2_train_counts,\n",
        "    name='Subset 2 Train (Checking = 3 or 4)',\n",
        "    marker_color='rgb(26, 118, 255)',\n",
        "    opacity=0.6\n",
        ")\n",
        "\n",
        "trace2_val = go.Bar(\n",
        "    x=['Good', 'Bad'],\n",
        "    y=subset2_val_counts,\n",
        "    name='Subset 2 Validation (Checking = 3 or 4)',\n",
        "    marker_color='rgb(26, 118, 255)',\n",
        "    opacity=1\n",
        ")\n",
        "\n",
        "# Combine the bar charts and set the layout options\n",
        "data = [trace1_val, trace2_val]\n",
        "layout = go.Layout(\n",
        "    title='Distribution of Good and Bad Applicants in Validation Sets',\n",
        "    xaxis=dict(title='Applicant Type'),\n",
        "    yaxis=dict(title='Count'),\n",
        "    barmode='group'\n",
        ")\n",
        "\n",
        "# Create the final figure and display it\n",
        "fig = go.Figure(data=data, layout=layout)\n",
        "fig.show()\n"
      ]
    },
    {
      "cell_type": "markdown",
      "source": [
        "## Correlation Matrix"
      ],
      "metadata": {
        "id": "EaOFV5m24PkI"
      },
      "id": "EaOFV5m24PkI"
    },
    {
      "cell_type": "code",
      "execution_count": null,
      "id": "2ff22d6c",
      "metadata": {
        "colab": {
          "base_uri": "https://localhost:8080/"
        },
        "id": "2ff22d6c",
        "outputId": "697de28f-f940-4a39-e5a2-6aa9e19a079b"
      },
      "outputs": [
        {
          "output_type": "stream",
          "name": "stdout",
          "text": [
            "Correlation matrix for Subset1:\n",
            "           Duration    Amount  Installp  Resident       Age   Existcr   Depends\n",
            "Duration  1.000000  0.560094  0.070830  0.065675  0.060329 -0.027796  0.068620\n",
            "Amount    0.560094  1.000000 -0.275284  0.056177  0.149398  0.097159  0.130448\n",
            "Installp  0.070830 -0.275284  1.000000  0.025610  0.055960 -0.089120 -0.143198\n",
            "Resident  0.065675  0.056177  0.025610  1.000000  0.149161  0.111709  0.066619\n",
            "Age       0.060329  0.149398  0.055960  0.149161  1.000000  0.154306  0.170292\n",
            "Existcr  -0.027796  0.097159 -0.089120  0.111709  0.154306  1.000000  0.087835\n",
            "Depends   0.068620  0.130448 -0.143198  0.066619  0.170292  0.087835  1.000000\n"
          ]
        }
      ],
      "source": [
        "# Select the numerical variables in subset1\n",
        "numerical_columns = ['Duration', 'Amount', 'Installp', 'Resident', 'Age', 'Existcr', 'Depends']\n",
        "numerical_subset1 = X1_train[numerical_columns]\n",
        "\n",
        "# Calculate the correlation matrix for subset1\n",
        "correlation_matrix_subset1 = numerical_subset1.corr()\n",
        "print(\"Correlation matrix for Subset1:\\n\", correlation_matrix_subset1)\n",
        "\n"
      ]
    },
    {
      "cell_type": "code",
      "execution_count": null,
      "id": "6872a264",
      "metadata": {
        "colab": {
          "base_uri": "https://localhost:8080/"
        },
        "id": "6872a264",
        "outputId": "e701f174-bc39-4147-a275-06a6823e6a7e"
      },
      "outputs": [
        {
          "output_type": "stream",
          "name": "stdout",
          "text": [
            "\n",
            "Correlation matrix for Subset2:\n",
            "           Duration    Amount  Installp  Resident       Age   Existcr   Depends\n",
            "Duration  1.000000  0.494617  0.320752  0.102949 -0.016334  0.057801 -0.138760\n",
            "Amount    0.494617  1.000000 -0.247300  0.089167 -0.030396  0.044734 -0.008450\n",
            "Installp  0.320752 -0.247300  1.000000  0.095760  0.136242  0.109012 -0.060813\n",
            "Resident  0.102949  0.089167  0.095760  1.000000  0.335953  0.008813 -0.013590\n",
            "Age      -0.016334 -0.030396  0.136242  0.335953  1.000000  0.162378  0.108470\n",
            "Existcr   0.057801  0.044734  0.109012  0.008813  0.162378  1.000000  0.072210\n",
            "Depends  -0.138760 -0.008450 -0.060813 -0.013590  0.108470  0.072210  1.000000\n"
          ]
        }
      ],
      "source": [
        "# Select the numerical variables in subset2\n",
        "numerical_subset2 = X2_train[numerical_columns]\n",
        "\n",
        "# Calculate the correlation matrix for subset2\n",
        "correlation_matrix_subset2 = numerical_subset2.corr()\n",
        "print(\"\\nCorrelation matrix for Subset2:\\n\", correlation_matrix_subset2)\n"
      ]
    },
    {
      "cell_type": "code",
      "execution_count": null,
      "id": "ffe74593",
      "metadata": {
        "id": "ffe74593"
      },
      "outputs": [],
      "source": [
        "import seaborn as sns\n",
        "import matplotlib.pyplot as plt\n",
        "\n",
        "# Create the subplots with 1 row and 2 columns\n",
        "fig, axes = plt.subplots(1, 2, figsize=(12, 6))\n",
        "\n",
        "# Create the first heatmap for Subset1\n",
        "sns.heatmap(correlation_matrix_subset1, annot=False, square=True, ax=axes[0])\n",
        "axes[0].set_title('Correlation Matrix for Subset1')\n",
        "\n",
        "# Create the second heatmap for Subset2\n",
        "sns.heatmap(correlation_matrix_subset2, annot=False, square=True, ax=axes[1])\n",
        "axes[1].set_title('Correlation Matrix for Subset2')\n",
        "\n",
        "# Adjust the spacing between the subplots\n",
        "fig.subplots_adjust(wspace=0.4)\n",
        "\n",
        "# Show the plots\n",
        "plt.show()\n"
      ]
    },
    {
      "cell_type": "markdown",
      "source": [
        "# Q3) Variable selection and Binning"
      ],
      "metadata": {
        "id": "YGpixA34aPEN"
      },
      "id": "YGpixA34aPEN"
    },
    {
      "cell_type": "markdown",
      "id": "1010a012",
      "metadata": {
        "id": "1010a012"
      },
      "source": [
        "## Cleaning data"
      ]
    },
    {
      "cell_type": "code",
      "execution_count": null,
      "id": "01787066",
      "metadata": {
        "id": "01787066"
      },
      "outputs": [],
      "source": [
        "import pandas as pd\n",
        "from sklearn.preprocessing import LabelEncoder\n",
        "from sklearn.preprocessing import OrdinalEncoder\n",
        "from sklearn.preprocessing import OneHotEncoder\n",
        "from optbinning import OptimalBinning\n",
        "\n"
      ]
    },
    {
      "cell_type": "code",
      "execution_count": null,
      "id": "60936903",
      "metadata": {
        "id": "60936903"
      },
      "outputs": [],
      "source": [
        "# convert 'Purpose' column to int64 data type in both subsets\n",
        "X1_train['Purpose'] = X1_train['Purpose'].astype('int64')\n",
        "X2_train['Purpose'] = X2_train['Purpose'].astype('int64')\n"
      ]
    },
    {
      "cell_type": "markdown",
      "source": [
        "## OptimalBinning function"
      ],
      "metadata": {
        "id": "NIV4Hzu8acHz"
      },
      "id": "NIV4Hzu8acHz"
    },
    {
      "cell_type": "code",
      "execution_count": null,
      "id": "e7885e93",
      "metadata": {
        "scrolled": false,
        "id": "e7885e93"
      },
      "outputs": [],
      "source": [
        "import pandas as pd\n",
        "from optbinning import OptimalBinning\n",
        "from sklearn.preprocessing import OrdinalEncoder\n",
        "\n",
        "def perform_optimal_binning(X, y, continuous_vars, categorical_vars):\n",
        "    X_binned = X.copy()\n",
        "    iv_values = {}\n",
        "\n",
        "    for variable in continuous_vars:\n",
        "        optb = OptimalBinning(name=variable, dtype=\"numerical\", prebinning_method=\"cart\", solver=\"cp\")\n",
        "        optb.fit(X[variable].values, y.values)\n",
        "        X_binned[variable] = optb.transform(X[variable].values, metric=\"indices\")\n",
        "        binning_table = optb.binning_table.build()\n",
        "        iv_values[variable] = binning_table.loc[\"Totals\", \"IV\"]\n",
        "\n",
        "        print(\"NUMERICAL BINNING: \")\n",
        "        print(f\"Binning table for {variable}:\")\n",
        "        print(binning_table)\n",
        "        print(\"\\n\")\n",
        "\n",
        "    for variable in categorical_vars:\n",
        "        optb = OptimalBinning(name=variable, dtype=\"categorical\", solver=\"mip\", cat_cutoff=None)\n",
        "        optb.fit(X[variable].values, y.values)\n",
        "        X_binned[variable] = optb.transform(X[variable].values, metric=\"indices\")\n",
        "        binning_table = optb.binning_table.build()\n",
        "        iv_values[variable] = binning_table.loc[\"Totals\", \"IV\"]\n",
        "\n",
        "        print(\"CATEGORICAL BINNING: \")\n",
        "        print(f\"Binning table for {variable}:\")\n",
        "        print(binning_table)\n",
        "        print(\"\\n\")\n",
        "\n",
        "    return X_binned, iv_values\n",
        "\n",
        "\n",
        "\n",
        "continuous_vars = ['Duration', 'Amount', 'Installp', 'Resident', 'Age', 'Existcr', 'Depends']\n",
        "categorical_vars = [col for col in X1_train.columns if col not in continuous_vars]\n",
        "\n",
        "\n"
      ]
    },
    {
      "cell_type": "markdown",
      "source": [
        "## Optimal Binning of X1_train"
      ],
      "metadata": {
        "id": "c42LTKn5xb9n"
      },
      "id": "c42LTKn5xb9n"
    },
    {
      "cell_type": "code",
      "source": [
        "X1_train_binned, iv_values_X1 = perform_optimal_binning(X1_train, y1_train, continuous_vars, categorical_vars)\n"
      ],
      "metadata": {
        "id": "-Y8-MmhExJki"
      },
      "id": "-Y8-MmhExJki",
      "execution_count": null,
      "outputs": []
    },
    {
      "cell_type": "markdown",
      "source": [
        "## Optimal Binning of X2_train"
      ],
      "metadata": {
        "id": "GJXFsFg4xmMP"
      },
      "id": "GJXFsFg4xmMP"
    },
    {
      "cell_type": "code",
      "source": [
        "X2_train_binned, iv_values_X2 = perform_optimal_binning(X2_train, y2_train, continuous_vars, categorical_vars)\n"
      ],
      "metadata": {
        "id": "GelWnJXvxN90"
      },
      "id": "GelWnJXvxN90",
      "execution_count": null,
      "outputs": []
    },
    {
      "cell_type": "markdown",
      "source": [
        "## Sorted IV's without Custom Binning"
      ],
      "metadata": {
        "id": "klx3rTXi4nBV"
      },
      "id": "klx3rTXi4nBV"
    },
    {
      "cell_type": "code",
      "source": [
        "print(\"Information Value for Subset1:\")\n",
        "sorted_iv_values_X1 = sorted(iv_values_X1.items(), key=lambda x: x[1], reverse=True)\n",
        "for variable, iv in sorted_iv_values_X1:\n",
        "    print(f\"{variable}: {iv}\")\n",
        "\n",
        "print(\"\\nInformation Value for Subset2:\")\n",
        "sorted_iv_values_X2 = sorted(iv_values_X2.items(), key=lambda x: x[1], reverse=True)\n",
        "for variable, iv in sorted_iv_values_X2:\n",
        "    print(f\"{variable}: {iv}\")"
      ],
      "metadata": {
        "colab": {
          "base_uri": "https://localhost:8080/"
        },
        "id": "9kz3jGWjYIgB",
        "outputId": "0e8a17f7-648e-4e46-bbc0-69c1c9f9eb31"
      },
      "id": "9kz3jGWjYIgB",
      "execution_count": null,
      "outputs": [
        {
          "output_type": "stream",
          "name": "stdout",
          "text": [
            "Information Value for Subset1:\n",
            "Duration: 0.4178489133645281\n",
            "Age: 0.3274238864183101\n",
            "History: 0.3197574550699738\n",
            "Property: 0.1959232008502502\n",
            "Amount: 0.16805023062228486\n",
            "housing: 0.1493033198743211\n",
            "Purpose: 0.12927103896433442\n",
            "Savings: 0.12061556913976491\n",
            "marital: 0.09745041681263165\n",
            "Emploed: 0.08206587445302474\n",
            "Installp: 0.05924117611193566\n",
            "Coapp: 0.05596615242565124\n",
            "Checking: 0.05044658012181499\n",
            "Job: 0.04844828406310453\n",
            "Existcr: 0.035820184424735585\n",
            "Other: 0.033378873482336674\n",
            "Resident: 0.02011687610608317\n",
            "Depends: 0.014404628197682982\n",
            "Telephone: 0.0020486642436627935\n",
            "Foreign: 0.0\n",
            "\n",
            "Information Value for Subset2:\n",
            "Duration: 0.4828683748484717\n",
            "Amount: 0.45914162410514436\n",
            "History: 0.4248002895744063\n",
            "Other: 0.32791173795221573\n",
            "Purpose: 0.2368400811339722\n",
            "Depends: 0.2129056651108976\n",
            "Telephone: 0.15592834715762222\n",
            "Age: 0.13426287511844748\n",
            "Emploed: 0.12576038278569646\n",
            "Job: 0.12348305128489563\n",
            "Savings: 0.11180765359191974\n",
            "Installp: 0.07763495298793169\n",
            "Coapp: 0.06885914571488531\n",
            "Checking: 0.06308854436647741\n",
            "Property: 0.04339234818747909\n",
            "marital: 0.03811710898853561\n",
            "Resident: 0.01976005251637155\n",
            "Existcr: 0.014169270895199312\n",
            "housing: 0.009027561094449752\n",
            "Foreign: 0.0\n"
          ]
        }
      ]
    },
    {
      "cell_type": "code",
      "source": [
        "import pandas as pd\n",
        "from optbinning import OptimalBinning\n",
        "from sklearn.preprocessing import OrdinalEncoder\n",
        "\n",
        "def perform_optimal_binning2(X, y, continuous_vars, categorical_vars):\n",
        "    X_binned = X.copy()\n",
        "    iv_values = {}\n",
        "\n",
        "    for variable in continuous_vars:\n",
        "        if variable == \"Duration\":\n",
        "            user_splits = [7.5, 11.5]\n",
        "        elif variable == \"Installp\":\n",
        "            user_splits = [1.5]\n",
        "        elif variable == \"Age\":\n",
        "            user_splits = [24.5, 25.5]\n",
        "        else:\n",
        "            user_splits = None\n",
        "\n",
        "        optb = OptimalBinning(name=variable, dtype=\"numerical\", prebinning_method=\"cart\", solver=\"cp\", user_splits=user_splits)\n",
        "        optb.fit(X[variable].values, y.values)\n",
        "        X_binned[variable] = optb.transform(X[variable].values, metric=\"indices\")\n",
        "        binning_table = optb.binning_table.build()\n",
        "        iv_values[variable] = binning_table.loc[\"Totals\", \"IV\"]\n",
        "\n",
        "        print(\"NUMERICAL BINNING: \")\n",
        "        print(f\"Binning table for {variable}:\")\n",
        "        print(binning_table)\n",
        "        print(\"\\n\")\n",
        "\n",
        "    for variable in categorical_vars:\n",
        "        optb = OptimalBinning(name=variable, dtype=\"categorical\", solver=\"mip\", cat_cutoff=None)\n",
        "        optb.fit(X[variable].values, y.values)\n",
        "        X_binned[variable] = optb.transform(X[variable].values, metric=\"indices\")\n",
        "        binning_table = optb.binning_table.build()\n",
        "        iv_values[variable] = binning_table.loc[\"Totals\", \"IV\"]\n",
        "\n",
        "        print(\"CATEGORICAL BINNING: \")\n",
        "        print(f\"Binning table for {variable}:\")\n",
        "        print(binning_table)\n",
        "        print(\"\\n\")\n",
        "\n",
        "    return X_binned, iv_values\n",
        "\n",
        "continuous_vars = ['Duration', 'Amount', 'Installp', 'Resident', 'Age', 'Existcr', 'Depends']\n",
        "categorical_vars = [col for col in X1_train.columns if col not in continuous_vars]\n",
        "\n",
        "# Optimal Binning of X1_train\n",
        "X1_train_binned2, iv2_values_X1 = perform_optimal_binning2(X1_train, y1_train, continuous_vars, categorical_vars)\n"
      ],
      "metadata": {
        "id": "Sj0uqGr81B1P"
      },
      "id": "Sj0uqGr81B1P",
      "execution_count": null,
      "outputs": []
    },
    {
      "cell_type": "markdown",
      "id": "a1d4578d",
      "metadata": {
        "id": "a1d4578d"
      },
      "source": [
        "## Investigating high IV values"
      ]
    },
    {
      "cell_type": "code",
      "execution_count": null,
      "id": "35b605e3",
      "metadata": {
        "id": "35b605e3"
      },
      "outputs": [],
      "source": [
        "import pandas as pd\n",
        "import plotly.graph_objects as go\n",
        "from plotly.subplots import make_subplots\n",
        "\n",
        "# Combine the training variables and target variable into a single DataFrame\n",
        "train_df = pd.concat([X2_train, y2_train], axis=1)\n",
        "\n",
        "# Create a subplot with 1 row and 3 columns\n",
        "fig = make_subplots(rows=1, cols=3, subplot_titles=(\"Duration\", \"Foreign\", \"History\"), specs=[[{'type':'bar'}, {'type':'bar'}, {'type':'bar'}]])\n",
        "\n",
        "# Calculate counts for each category and the target variable 'Bad'\n",
        "purpose_counts = train_df.groupby(['Duration', 'Bad']).size().reset_index(name='Count')\n",
        "foreign_counts = train_df.groupby(['Foreign', 'Bad']).size().reset_index(name='Count')\n",
        "history_counts = train_df.groupby(['History', 'Bad']).size().reset_index(name='Count')\n",
        "\n",
        "# Add bar charts to the subplot for Good credit risk (Bad == 0)\n",
        "fig.add_trace(go.Bar(x=purpose_counts[purpose_counts['Bad'] == 0]['Duration'], y=purpose_counts[purpose_counts['Bad'] == 0]['Count'], name='Good (Duration)'), row=1, col=1)\n",
        "fig.add_trace(go.Bar(x=foreign_counts[foreign_counts['Bad'] == 0]['Foreign'], y=foreign_counts[foreign_counts['Bad'] == 0]['Count'], name='Good (Foreign)'), row=1, col=2)\n",
        "fig.add_trace(go.Bar(x=history_counts[history_counts['Bad'] == 0]['History'], y=history_counts[history_counts['Bad'] == 0]['Count'], name='Good (History)'), row=1, col=3)\n",
        "\n",
        "# Add bar charts to the subplot for Bad credit risk (Bad == 1)\n",
        "fig.add_trace(go.Bar(x=purpose_counts[purpose_counts['Bad'] == 1]['Duration'], y=purpose_counts[purpose_counts['Bad'] == 1]['Count'], name='Bad (Duration)'), row=1, col=1)\n",
        "fig.add_trace(go.Bar(x=foreign_counts[foreign_counts['Bad'] == 1]['Foreign'], y=foreign_counts[foreign_counts['Bad'] == 1]['Count'], name='Bad (Foreign)'), row=1, col=2)\n",
        "fig.add_trace(go.Bar(x=history_counts[history_counts['Bad'] == 1]['History'], y=history_counts[history_counts['Bad'] == 1]['Count'], name='Bad (History)'), row=1, col=3)\n",
        "\n",
        "# Update the layout\n",
        "fig.update_layout(barmode='group', title_text=\"Count Plots of Duration, Foreign, and History with the Target Variable 'Bad' in the Training Set\")\n",
        "\n",
        "# Show the plot\n",
        "fig.show()\n"
      ]
    },
    {
      "cell_type": "markdown",
      "id": "c9375dc9",
      "metadata": {
        "id": "c9375dc9"
      },
      "source": [
        "## Subset 1 Binning (Top 4 variables)"
      ]
    },
    {
      "cell_type": "markdown",
      "id": "b3646458",
      "metadata": {
        "id": "b3646458"
      },
      "source": [
        "### Binning: History"
      ]
    },
    {
      "cell_type": "code",
      "execution_count": null,
      "id": "bf3f80d5",
      "metadata": {
        "colab": {
          "base_uri": "https://localhost:8080/"
        },
        "id": "bf3f80d5",
        "outputId": "4c6a14b5-feb3-430d-a3ea-08f926bf22f9"
      },
      "outputs": [
        {
          "output_type": "stream",
          "name": "stdout",
          "text": [
            "Optimal binning for History:\n",
            "            Bin  Count  Count (%)  Non-event  Event  Event rate       WoE  \\\n",
            "0           [4]     75   0.227964         58     17    0.226667  0.939548   \n",
            "1           [3]     33   0.100304         19     14    0.424242    0.0177   \n",
            "2           [2]    180   0.547112         98     82    0.455556 -0.109434   \n",
            "3           [1]     22   0.066869          7     15    0.681818 -1.049822   \n",
            "4           [0]     19   0.057751          6     13    0.684211 -1.060872   \n",
            "5       Special      0   0.000000          0      0    0.000000       0.0   \n",
            "6       Missing      0   0.000000          0      0    0.000000       0.0   \n",
            "Totals             329   1.000000        188    141    0.428571             \n",
            "\n",
            "              IV        JS  \n",
            "0       0.176582  0.021295  \n",
            "1       0.000031  0.000004  \n",
            "2       0.006597  0.000824  \n",
            "3       0.072594  0.008679  \n",
            "4       0.063953  0.007639  \n",
            "5       0.000000  0.000000  \n",
            "6       0.000000  0.000000  \n",
            "Totals  0.319757  0.038442  \n"
          ]
        }
      ],
      "source": [
        "\n",
        "# Optimal binning for History\n",
        "optb_history = OptimalBinning(name='History', dtype='categorical', solver='cp')\n",
        "optb_history.fit(X1_train['History'], y1_train)\n",
        "binning_table_history = optb_history.binning_table.build()\n",
        "print(\"Optimal binning for History:\")\n",
        "print(binning_table_history)\n"
      ]
    },
    {
      "cell_type": "markdown",
      "source": [
        "#### Customized Binning"
      ],
      "metadata": {
        "id": "lFH5COZn8_rI"
      },
      "id": "lFH5COZn8_rI"
    },
    {
      "cell_type": "code",
      "source": [
        "from optbinning import OptimalBinning\n",
        "\n",
        "# Adjusting parameters for OptimalBinning\n",
        "optb_history_adjusted = OptimalBinning(name='History', dtype='categorical', solver='cp', max_n_bins=3)\n",
        "\n",
        "# Fitting the adjusted OptimalBinning object\n",
        "optb_history_adjusted.fit(X1_train['History'], y1_train)\n",
        "\n",
        "# Building and displaying the adjusted binning table\n",
        "binning_table_history_adjusted = optb_history_adjusted.binning_table.build()\n",
        "print(\"Adjusted optimal binning for History:\")\n",
        "print(binning_table_history_adjusted)\n"
      ],
      "metadata": {
        "colab": {
          "base_uri": "https://localhost:8080/"
        },
        "id": "wxEUbcJNc9RO",
        "outputId": "00614ec7-0faa-4f29-a4f5-43474fcc704f"
      },
      "id": "wxEUbcJNc9RO",
      "execution_count": null,
      "outputs": [
        {
          "output_type": "stream",
          "name": "stdout",
          "text": [
            "Adjusted optimal binning for History:\n",
            "            Bin  Count  Count (%)  Non-event  Event  Event rate       WoE  \\\n",
            "0           [4]     75   0.227964         58     17    0.226667  0.939548   \n",
            "1        [3, 2]    213   0.647416        117     96    0.450704 -0.089856   \n",
            "2        [1, 0]     41   0.124620         13     28    0.682927 -1.054937   \n",
            "3       Special      0   0.000000          0      0    0.000000       0.0   \n",
            "4       Missing      0   0.000000          0      0    0.000000       0.0   \n",
            "Totals             329   1.000000        188    141    0.428571             \n",
            "\n",
            "              IV        JS  \n",
            "0       0.176582  0.021295  \n",
            "1       0.005258  0.000657  \n",
            "2       0.136543  0.016318  \n",
            "3       0.000000  0.000000  \n",
            "4       0.000000  0.000000  \n",
            "Totals  0.318382  0.038270  \n"
          ]
        }
      ]
    },
    {
      "cell_type": "markdown",
      "id": "cf256fdc",
      "metadata": {
        "id": "cf256fdc"
      },
      "source": [
        "### Binning: Age"
      ]
    },
    {
      "cell_type": "code",
      "source": [
        "# Optimal binning for Age\n",
        "optb_age = OptimalBinning(name='Age', dtype='numerical', solver='cp')\n",
        "optb_age.fit(X1_train['Age'], y1_train)\n",
        "binning_table_age = optb_age.binning_table.build()\n",
        "print(\"Optimal binning for Age:\")\n",
        "print(binning_table_age)\n"
      ],
      "metadata": {
        "colab": {
          "base_uri": "https://localhost:8080/"
        },
        "id": "5OOUoVirfGIU",
        "outputId": "e696262f-f0ee-4ce2-f696-ea603a048cf1"
      },
      "id": "5OOUoVirfGIU",
      "execution_count": null,
      "outputs": [
        {
          "output_type": "stream",
          "name": "stdout",
          "text": [
            "Optimal binning for Age:\n",
            "                   Bin  Count  Count (%)  Non-event  Event  Event rate  \\\n",
            "0        (-inf, 24.50)     63   0.191489         26     37    0.587302   \n",
            "1       [24.50, 25.50)     19   0.057751         10      9    0.473684   \n",
            "2       [25.50, 34.50)    113   0.343465         66     47    0.415929   \n",
            "3       [34.50, 36.50)     24   0.072948         20      4    0.166667   \n",
            "4       [36.50, 39.50)     20   0.060790         17      3    0.150000   \n",
            "5       [39.50, 49.50)     55   0.167173         34     21    0.381818   \n",
            "6         [49.50, inf)     35   0.106383         15     20    0.571429   \n",
            "7              Special      0   0.000000          0      0    0.000000   \n",
            "8              Missing      0   0.000000          0      0    0.000000   \n",
            "Totals                    329   1.000000        188    141    0.428571   \n",
            "\n",
            "             WoE        IV        JS  \n",
            "0      -0.640503  0.079495  0.009770  \n",
            "1      -0.182322  0.001940  0.000242  \n",
            "2       0.051825  0.000919  0.000115  \n",
            "3       1.321756  0.103116  0.012026  \n",
            "4       1.446919  0.100053  0.011518  \n",
            "5       0.194156  0.006196  0.000773  \n",
            "6      -0.575364  0.035705  0.004403  \n",
            "7            0.0  0.000000  0.000000  \n",
            "8            0.0  0.000000  0.000000  \n",
            "Totals            0.327424  0.038848  \n"
          ]
        }
      ]
    },
    {
      "cell_type": "markdown",
      "source": [
        "#### Customized Binning"
      ],
      "metadata": {
        "id": "JsIeiIDz9Ied"
      },
      "id": "JsIeiIDz9Ied"
    },
    {
      "cell_type": "code",
      "execution_count": null,
      "id": "13973ea8",
      "metadata": {
        "colab": {
          "base_uri": "https://localhost:8080/"
        },
        "id": "13973ea8",
        "outputId": "66541d71-11c2-43df-e5cb-fe0974a7c2c6"
      },
      "outputs": [
        {
          "output_type": "stream",
          "name": "stdout",
          "text": [
            "Optimal binning for Age:\n",
            "                   Bin  Count  Count (%)  Non-event  Event  Event rate  \\\n",
            "0        (-inf, 24.50)     63   0.191489         26     37    0.587302   \n",
            "1       [24.50, 34.50)    132   0.401216         76     56    0.424242   \n",
            "2       [34.50, 39.50)     44   0.133739         37      7    0.159091   \n",
            "3       [39.50, 49.50)     55   0.167173         34     21    0.381818   \n",
            "4         [49.50, inf)     35   0.106383         15     20    0.571429   \n",
            "5              Special      0   0.000000          0      0    0.000000   \n",
            "6              Missing      0   0.000000          0      0    0.000000   \n",
            "Totals                    329   1.000000        188    141    0.428571   \n",
            "\n",
            "             WoE        IV        JS  \n",
            "0      -0.640503  0.079495  0.009770  \n",
            "1         0.0177  0.000126  0.000016  \n",
            "2       1.377326  0.202692  0.023506  \n",
            "3       0.194156  0.006196  0.000773  \n",
            "4      -0.575364  0.035705  0.004403  \n",
            "5            0.0  0.000000  0.000000  \n",
            "6            0.0  0.000000  0.000000  \n",
            "Totals            0.324214  0.038468  \n"
          ]
        }
      ],
      "source": [
        "# Optimal binning for Age\n",
        "optb_age_adjusted = OptimalBinning(name='Age', dtype='numerical', solver='cp', max_n_bins=5)\n",
        "optb_age_adjusted.fit(X1_train['Age'], y1_train)\n",
        "binning_table_age_adjusted = optb_age_adjusted.binning_table.build()\n",
        "print(\"Optimal binning for Age:\")\n",
        "print(binning_table_age_adjusted)\n",
        "\n"
      ]
    },
    {
      "cell_type": "markdown",
      "id": "0fcd8a96",
      "metadata": {
        "id": "0fcd8a96"
      },
      "source": [
        "### Binning: Duration"
      ]
    },
    {
      "cell_type": "code",
      "execution_count": null,
      "id": "71066829",
      "metadata": {
        "colab": {
          "base_uri": "https://localhost:8080/"
        },
        "id": "71066829",
        "outputId": "7a899953-8a7b-4590-db8d-83fa1dab1592"
      },
      "outputs": [
        {
          "output_type": "stream",
          "name": "stdout",
          "text": [
            "Optimal binning for Duration:\n",
            "                   Bin  Count  Count (%)  Non-event  Event  Event rate  \\\n",
            "0         (-inf, 7.50)     24   0.072948         21      3    0.125000   \n",
            "1        [7.50, 11.50)     31   0.094225         22      9    0.290323   \n",
            "2       [11.50, 22.50)    145   0.440729         91     54    0.372414   \n",
            "3       [22.50, 31.50)     79   0.240122         36     43    0.544304   \n",
            "4       [31.50, 43.50)     31   0.094225         14     17    0.548387   \n",
            "5         [43.50, inf)     19   0.057751          4     15    0.789474   \n",
            "6              Special      0   0.000000          0      0    0.000000   \n",
            "7              Missing      0   0.000000          0      0    0.000000   \n",
            "Totals                    329   1.000000        188    141    0.428571   \n",
            "\n",
            "             WoE        IV        JS  \n",
            "0       1.658228  0.149946  0.016854  \n",
            "1       0.606136  0.032241  0.003970  \n",
            "2       0.234193  0.023668  0.002952  \n",
            "3      -0.465363  0.052807  0.006542  \n",
            "4      -0.481838  0.022212  0.002750  \n",
            "5      -1.609438  0.136973  0.015484  \n",
            "6            0.0  0.000000  0.000000  \n",
            "7            0.0  0.000000  0.000000  \n",
            "Totals            0.417849  0.048551  \n"
          ]
        }
      ],
      "source": [
        "# Optimal binning for Duration\n",
        "optb_duration = OptimalBinning(name='Duration', dtype='numerical', solver='cp')\n",
        "optb_duration.fit(X1_train['Duration'], y1_train)\n",
        "binning_table_duration = optb_duration.binning_table.build()\n",
        "print(\"Optimal binning for Duration:\")\n",
        "print(binning_table_duration)\n",
        "\n"
      ]
    },
    {
      "cell_type": "markdown",
      "source": [
        "#### Customized Binning"
      ],
      "metadata": {
        "id": "mfCMUJ8X9KcZ"
      },
      "id": "mfCMUJ8X9KcZ"
    },
    {
      "cell_type": "code",
      "source": [
        "# Optimal binning for Duration\n",
        "optb_duration_adjusted = OptimalBinning(name='Duration', dtype='numerical', solver='cp', max_n_bins=4)\n",
        "optb_duration_adjusted.fit(X1_train['Duration'], y1_train)\n",
        "binning_table_duration_adjusted = optb_duration_adjusted.binning_table.build()\n",
        "print(\"Optimal binning for Duration:\")\n",
        "print(binning_table_duration_adjusted)\n",
        "\n"
      ],
      "metadata": {
        "colab": {
          "base_uri": "https://localhost:8080/"
        },
        "id": "10TeJDrcedow",
        "outputId": "5faaf82e-4e75-4fa8-bfac-77c2673d036f"
      },
      "id": "10TeJDrcedow",
      "execution_count": null,
      "outputs": [
        {
          "output_type": "stream",
          "name": "stdout",
          "text": [
            "Optimal binning for Duration:\n",
            "                   Bin  Count  Count (%)  Non-event  Event  Event rate  \\\n",
            "0         (-inf, 7.50)     24   0.072948         21      3    0.125000   \n",
            "1        [7.50, 22.50)    176   0.534954        113     63    0.357955   \n",
            "2       [22.50, 43.50)    110   0.334347         50     60    0.545455   \n",
            "3         [43.50, inf)     19   0.057751          4     15    0.789474   \n",
            "4              Special      0   0.000000          0      0    0.000000   \n",
            "5              Missing      0   0.000000          0      0    0.000000   \n",
            "Totals                    329   1.000000        188    141    0.428571   \n",
            "\n",
            "             WoE        IV        JS  \n",
            "0       1.658228  0.149946  0.016854  \n",
            "1       0.296571  0.045748  0.005698  \n",
            "2      -0.470004  0.075001  0.009290  \n",
            "3      -1.609438  0.136973  0.015484  \n",
            "4            0.0  0.000000  0.000000  \n",
            "5            0.0  0.000000  0.000000  \n",
            "Totals            0.407668  0.047325  \n"
          ]
        }
      ]
    },
    {
      "cell_type": "markdown",
      "id": "4e22b576",
      "metadata": {
        "id": "4e22b576"
      },
      "source": [
        "### Binning: Property"
      ]
    },
    {
      "cell_type": "code",
      "execution_count": null,
      "id": "da47b6b0",
      "metadata": {
        "colab": {
          "base_uri": "https://localhost:8080/"
        },
        "id": "da47b6b0",
        "outputId": "1df21af8-2c2f-47ef-dd02-ce9784deb848"
      },
      "outputs": [
        {
          "output_type": "stream",
          "name": "stdout",
          "text": [
            "Optimal binning for Property:\n",
            "            Bin  Count  Count (%)  Non-event  Event  Event rate       WoE  \\\n",
            "0           [1]     90   0.273556         65     25    0.277778  0.667829   \n",
            "1        [3, 2]    195   0.592705        106     89    0.456410 -0.112879   \n",
            "2           [4]     44   0.133739         17     27    0.613636 -0.750306   \n",
            "3       Special      0   0.000000          0      0    0.000000       0.0   \n",
            "4       Missing      0   0.000000          0      0    0.000000       0.0   \n",
            "Totals             329   1.000000        188    141    0.428571             \n",
            "\n",
            "              IV        JS  \n",
            "0       0.112489  0.013806  \n",
            "1       0.007605  0.000950  \n",
            "2       0.075829  0.009262  \n",
            "3       0.000000  0.000000  \n",
            "4       0.000000  0.000000  \n",
            "Totals  0.195923  0.024018  \n"
          ]
        }
      ],
      "source": [
        "# Optimal binning for Property\n",
        "optb_property = OptimalBinning(name='Property', dtype='categorical', solver='cp')\n",
        "optb_property.fit(X1_train['Property'], y1_train)\n",
        "binning_table_property = optb_property.binning_table.build()\n",
        "print(\"Optimal binning for Property:\")\n",
        "print(binning_table_property)"
      ]
    },
    {
      "cell_type": "markdown",
      "source": [
        "#### Customized Binning"
      ],
      "metadata": {
        "id": "e9ZaVWMt9LlV"
      },
      "id": "e9ZaVWMt9LlV"
    },
    {
      "cell_type": "code",
      "source": [
        "# Optimal binning for Property\n",
        "optb_property_adjusted = OptimalBinning(name='Property', dtype='categorical', solver='cp', max_n_bins=2)\n",
        "optb_property_adjusted.fit(X1_train['Property'], y1_train)\n",
        "binning_table_property_adjusted = optb_property_adjusted.binning_table.build()\n",
        "print(\"Optimal binning for Property:\")\n",
        "print(binning_table_property_adjusted)"
      ],
      "metadata": {
        "colab": {
          "base_uri": "https://localhost:8080/"
        },
        "id": "cBS3PsG-f5UB",
        "outputId": "3a89233c-c9fd-453e-ba43-dbc6a23ddf1a"
      },
      "id": "cBS3PsG-f5UB",
      "execution_count": null,
      "outputs": [
        {
          "output_type": "stream",
          "name": "stdout",
          "text": [
            "Optimal binning for Property:\n",
            "              Bin  Count  Count (%)  Non-event  Event  Event rate       WoE  \\\n",
            "0             [1]     90   0.273556         65     25    0.277778  0.667829   \n",
            "1       [3, 2, 4]    239   0.726444        123    116    0.485356 -0.229088   \n",
            "2         Special      0   0.000000          0      0    0.000000       0.0   \n",
            "3         Missing      0   0.000000          0      0    0.000000       0.0   \n",
            "Totals               329   1.000000        188    141    0.428571             \n",
            "\n",
            "              IV        JS  \n",
            "0       0.112489  0.013806  \n",
            "1       0.038588  0.004813  \n",
            "2       0.000000  0.000000  \n",
            "3       0.000000  0.000000  \n",
            "Totals  0.151076  0.018618  \n"
          ]
        }
      ]
    },
    {
      "cell_type": "markdown",
      "id": "9cb8517b",
      "metadata": {
        "id": "9cb8517b"
      },
      "source": [
        "### Transform and Encode Training Set"
      ]
    },
    {
      "cell_type": "code",
      "execution_count": null,
      "id": "891a5734",
      "metadata": {
        "scrolled": false,
        "id": "891a5734"
      },
      "outputs": [],
      "source": [
        "# Transform the original variables into their binned categories\n",
        "X1_train_transformed = X1_train.copy()\n",
        "X1_train_transformed['History'] = optb_history.transform(X1_train_transformed['History'], metric='bins')\n",
        "X1_train_transformed['Duration'] = optb_duration.transform(X1_train_transformed['Duration'], metric='bins')\n",
        "X1_train_transformed['Age'] = optb_age.transform(X1_train_transformed['Age'], metric='bins')\n",
        "X1_train_transformed['Property'] = optb_property.transform(X1_train_transformed['Property'], metric='bins')\n",
        "\n",
        "\n",
        "\n",
        "## Ordinal Encoding\n",
        "\n",
        "# Obtain the bin labels for the binned Age variable from the binning table\n",
        "bin_labels = binning_table_age['Bin'].tolist()\n",
        "# Create an instance of the OrdinalEncoder with categories set to the sorted bin labels\n",
        "encoder = OrdinalEncoder(categories=[bin_labels], dtype=int)\n",
        "# Encode the Age variable in the X1_train_transformed dataframe using the OrdinalEncoder\n",
        "X1_train_transformed['Age'] = encoder.fit_transform(X1_train_transformed[['Age']])\n",
        "\n",
        "\n",
        "# Obtain the bin labels for the binned Duration variable from the binning table\n",
        "bin_labels = binning_table_duration['Bin'].tolist()\n",
        "# Create an instance of the OrdinalEncoder with categories set to the sorted bin labels\n",
        "encoder = OrdinalEncoder(categories=[bin_labels], dtype=int)\n",
        "# Encode the Duration variable in the X1_train_transformed dataframe using the OrdinalEncoder\n",
        "X1_train_transformed['Duration'] = encoder.fit_transform(X1_train_transformed[['Duration']])\n",
        "\n",
        "\n",
        "# One-hot Encoding\n",
        "from sklearn.preprocessing import OneHotEncoder\n",
        "\n",
        "# Instantiate the OneHotEncoder, specify the columns to encode, and set the drop parameter to 'first'\n",
        "encoder = OneHotEncoder(sparse=False, drop='first')\n",
        "X1_train_encoded = encoder.fit_transform(X1_train_transformed[['History', 'Property']])\n",
        "\n",
        "# Create a DataFrame with the encoded columns and their respective names\n",
        "encoded_columns = encoder.get_feature_names_out(['History', 'Property'])\n",
        "X1_train_encoded_df = pd.DataFrame(X1_train_encoded, columns=encoded_columns, index=X1_train_transformed.index)\n",
        "\n",
        "# Drop the original 'History' and 'Property' columns and concatenate the encoded DataFrame\n",
        "X1_train_transformed.drop(['History', 'Property'], axis=1, inplace=True)\n",
        "X1_train_transformed = pd.concat([X1_train_transformed, X1_train_encoded_df], axis=1)\n",
        "\n",
        "\n",
        "X1_train_transformed = X1_train_transformed[['History_[1]', 'History_[2]', 'History_[3]', 'History_[4]', 'Property_[3 2]', 'Property_[4]', 'Duration', 'Age']]\n",
        "\n",
        "\n",
        "\n",
        "\n",
        "\n"
      ]
    },
    {
      "cell_type": "markdown",
      "metadata": {
        "id": "c0eee544"
      },
      "source": [
        "### Transform and Encode Validation Set"
      ],
      "id": "c0eee544"
    },
    {
      "cell_type": "code",
      "execution_count": null,
      "metadata": {
        "id": "17ed1f33"
      },
      "outputs": [],
      "source": [
        "# Transform the original variables into their binned categories\n",
        "X1_val_transformed = X1_val.copy()\n",
        "X1_val_transformed['History'] = optb_history.transform(X1_val_transformed['History'], metric='bins')\n",
        "X1_val_transformed['Duration'] = optb_duration.transform(X1_val_transformed['Duration'], metric='bins')\n",
        "X1_val_transformed['Age'] = optb_age.transform(X1_val_transformed['Age'], metric='bins')\n",
        "X1_val_transformed['Property'] = optb_property.transform(X1_val_transformed['Property'], metric='bins')\n",
        "\n",
        "\n",
        "## Ordinal Encoding\n",
        "from sklearn.preprocessing import OrdinalEncoder\n",
        "# Obtain the bin labels for the binned Age variable from the binning table\n",
        "bin_labels = binning_table_age['Bin'].tolist()\n",
        "# Create an instance of the OrdinalEncoder with categories set to the sorted bin labels\n",
        "encoder = OrdinalEncoder(categories=[bin_labels], dtype=int)\n",
        "# Encode the Age variable in the X1_train_transformed dataframe using the OrdinalEncoder\n",
        "X1_val_transformed['Age'] = encoder.fit_transform(X1_val_transformed[['Age']])\n",
        "\n",
        "\n",
        "# Obtain the bin labels for the binned Duration variable from the binning table\n",
        "bin_labels = binning_table_duration['Bin'].tolist()\n",
        "# Create an instance of the OrdinalEncoder with categories set to the sorted bin labels\n",
        "encoder = OrdinalEncoder(categories=[bin_labels], dtype=int)\n",
        "# Encode the Duration variable in the X1_train_transformed dataframe using the OrdinalEncoder\n",
        "X1_val_transformed['Duration'] = encoder.fit_transform(X1_val_transformed[['Duration']])\n",
        "\n",
        "\n",
        "\n",
        "# One-hot Encoding\n",
        "from sklearn.preprocessing import OneHotEncoder\n",
        "\n",
        "# Instantiate the OneHotEncoder, specify the columns to encode, and set the drop parameter to 'first'\n",
        "encoder = OneHotEncoder(sparse=False, drop='first')\n",
        "X1_val_encoded = encoder.fit_transform(X1_val_transformed[['History', 'Property']])\n",
        "\n",
        "# Create a DataFrame with the encoded columns and their respective names\n",
        "encoded_columns = encoder.get_feature_names_out(['History', 'Property'])\n",
        "X1_val_encoded_df = pd.DataFrame(X1_val_encoded, columns=encoded_columns, index=X1_val_transformed.index)\n",
        "\n",
        "# Drop the original 'History' and 'Property' columns and concatenate the encoded DataFrame\n",
        "X1_val_transformed.drop(['History', 'Property'], axis=1, inplace=True)\n",
        "X1_val_transformed = pd.concat([X1_val_transformed, X1_val_encoded_df], axis=1)\n",
        "\n",
        "\n",
        "X1_val_transformed = X1_val_transformed[['History_[1]', 'History_[2]', 'History_[3]', 'History_[4]', 'Property_[3 2]', 'Property_[4]', 'Duration', 'Age']]\n",
        "\n",
        "X1_val_transformed\n"
      ],
      "id": "17ed1f33"
    },
    {
      "cell_type": "markdown",
      "source": [
        "### Binary Variables Subset 1"
      ],
      "metadata": {
        "id": "Vq2VY_bHcG3K"
      },
      "id": "Vq2VY_bHcG3K"
    },
    {
      "cell_type": "code",
      "source": [
        "X1_train_transformed"
      ],
      "metadata": {
        "colab": {
          "base_uri": "https://localhost:8080/",
          "height": 424
        },
        "id": "RSFLuE36cJKK",
        "outputId": "cd62b941-13e2-40f4-92b4-a9b0881f6c72"
      },
      "id": "RSFLuE36cJKK",
      "execution_count": null,
      "outputs": [
        {
          "output_type": "execute_result",
          "data": {
            "text/plain": [
              "     History_[1]  History_[2]  History_[3]  History_[4]  Property_[3 2]  \\\n",
              "227          0.0          1.0          0.0          0.0             0.0   \n",
              "351          0.0          1.0          0.0          0.0             1.0   \n",
              "892          0.0          0.0          0.0          1.0             1.0   \n",
              "103          0.0          0.0          0.0          1.0             1.0   \n",
              "207          0.0          0.0          0.0          1.0             1.0   \n",
              "..           ...          ...          ...          ...             ...   \n",
              "765          0.0          1.0          0.0          0.0             0.0   \n",
              "631          1.0          0.0          0.0          0.0             1.0   \n",
              "525          0.0          1.0          0.0          0.0             1.0   \n",
              "507          1.0          0.0          0.0          0.0             1.0   \n",
              "766          0.0          1.0          0.0          0.0             1.0   \n",
              "\n",
              "     Property_[4]  Duration  Age  \n",
              "227           1.0         2    6  \n",
              "351           0.0         1    2  \n",
              "892           0.0         2    4  \n",
              "103           0.0         1    3  \n",
              "207           0.0         2    2  \n",
              "..            ...       ...  ...  \n",
              "765           0.0         2    5  \n",
              "631           0.0         2    5  \n",
              "525           0.0         3    2  \n",
              "507           0.0         2    2  \n",
              "766           0.0         3    2  \n",
              "\n",
              "[329 rows x 8 columns]"
            ],
            "text/html": [
              "\n",
              "  <div id=\"df-37a6f103-3658-4c4b-971a-e27704d54182\">\n",
              "    <div class=\"colab-df-container\">\n",
              "      <div>\n",
              "<style scoped>\n",
              "    .dataframe tbody tr th:only-of-type {\n",
              "        vertical-align: middle;\n",
              "    }\n",
              "\n",
              "    .dataframe tbody tr th {\n",
              "        vertical-align: top;\n",
              "    }\n",
              "\n",
              "    .dataframe thead th {\n",
              "        text-align: right;\n",
              "    }\n",
              "</style>\n",
              "<table border=\"1\" class=\"dataframe\">\n",
              "  <thead>\n",
              "    <tr style=\"text-align: right;\">\n",
              "      <th></th>\n",
              "      <th>History_[1]</th>\n",
              "      <th>History_[2]</th>\n",
              "      <th>History_[3]</th>\n",
              "      <th>History_[4]</th>\n",
              "      <th>Property_[3 2]</th>\n",
              "      <th>Property_[4]</th>\n",
              "      <th>Duration</th>\n",
              "      <th>Age</th>\n",
              "    </tr>\n",
              "  </thead>\n",
              "  <tbody>\n",
              "    <tr>\n",
              "      <th>227</th>\n",
              "      <td>0.0</td>\n",
              "      <td>1.0</td>\n",
              "      <td>0.0</td>\n",
              "      <td>0.0</td>\n",
              "      <td>0.0</td>\n",
              "      <td>1.0</td>\n",
              "      <td>2</td>\n",
              "      <td>6</td>\n",
              "    </tr>\n",
              "    <tr>\n",
              "      <th>351</th>\n",
              "      <td>0.0</td>\n",
              "      <td>1.0</td>\n",
              "      <td>0.0</td>\n",
              "      <td>0.0</td>\n",
              "      <td>1.0</td>\n",
              "      <td>0.0</td>\n",
              "      <td>1</td>\n",
              "      <td>2</td>\n",
              "    </tr>\n",
              "    <tr>\n",
              "      <th>892</th>\n",
              "      <td>0.0</td>\n",
              "      <td>0.0</td>\n",
              "      <td>0.0</td>\n",
              "      <td>1.0</td>\n",
              "      <td>1.0</td>\n",
              "      <td>0.0</td>\n",
              "      <td>2</td>\n",
              "      <td>4</td>\n",
              "    </tr>\n",
              "    <tr>\n",
              "      <th>103</th>\n",
              "      <td>0.0</td>\n",
              "      <td>0.0</td>\n",
              "      <td>0.0</td>\n",
              "      <td>1.0</td>\n",
              "      <td>1.0</td>\n",
              "      <td>0.0</td>\n",
              "      <td>1</td>\n",
              "      <td>3</td>\n",
              "    </tr>\n",
              "    <tr>\n",
              "      <th>207</th>\n",
              "      <td>0.0</td>\n",
              "      <td>0.0</td>\n",
              "      <td>0.0</td>\n",
              "      <td>1.0</td>\n",
              "      <td>1.0</td>\n",
              "      <td>0.0</td>\n",
              "      <td>2</td>\n",
              "      <td>2</td>\n",
              "    </tr>\n",
              "    <tr>\n",
              "      <th>...</th>\n",
              "      <td>...</td>\n",
              "      <td>...</td>\n",
              "      <td>...</td>\n",
              "      <td>...</td>\n",
              "      <td>...</td>\n",
              "      <td>...</td>\n",
              "      <td>...</td>\n",
              "      <td>...</td>\n",
              "    </tr>\n",
              "    <tr>\n",
              "      <th>765</th>\n",
              "      <td>0.0</td>\n",
              "      <td>1.0</td>\n",
              "      <td>0.0</td>\n",
              "      <td>0.0</td>\n",
              "      <td>0.0</td>\n",
              "      <td>0.0</td>\n",
              "      <td>2</td>\n",
              "      <td>5</td>\n",
              "    </tr>\n",
              "    <tr>\n",
              "      <th>631</th>\n",
              "      <td>1.0</td>\n",
              "      <td>0.0</td>\n",
              "      <td>0.0</td>\n",
              "      <td>0.0</td>\n",
              "      <td>1.0</td>\n",
              "      <td>0.0</td>\n",
              "      <td>2</td>\n",
              "      <td>5</td>\n",
              "    </tr>\n",
              "    <tr>\n",
              "      <th>525</th>\n",
              "      <td>0.0</td>\n",
              "      <td>1.0</td>\n",
              "      <td>0.0</td>\n",
              "      <td>0.0</td>\n",
              "      <td>1.0</td>\n",
              "      <td>0.0</td>\n",
              "      <td>3</td>\n",
              "      <td>2</td>\n",
              "    </tr>\n",
              "    <tr>\n",
              "      <th>507</th>\n",
              "      <td>1.0</td>\n",
              "      <td>0.0</td>\n",
              "      <td>0.0</td>\n",
              "      <td>0.0</td>\n",
              "      <td>1.0</td>\n",
              "      <td>0.0</td>\n",
              "      <td>2</td>\n",
              "      <td>2</td>\n",
              "    </tr>\n",
              "    <tr>\n",
              "      <th>766</th>\n",
              "      <td>0.0</td>\n",
              "      <td>1.0</td>\n",
              "      <td>0.0</td>\n",
              "      <td>0.0</td>\n",
              "      <td>1.0</td>\n",
              "      <td>0.0</td>\n",
              "      <td>3</td>\n",
              "      <td>2</td>\n",
              "    </tr>\n",
              "  </tbody>\n",
              "</table>\n",
              "<p>329 rows × 8 columns</p>\n",
              "</div>\n",
              "      <button class=\"colab-df-convert\" onclick=\"convertToInteractive('df-37a6f103-3658-4c4b-971a-e27704d54182')\"\n",
              "              title=\"Convert this dataframe to an interactive table.\"\n",
              "              style=\"display:none;\">\n",
              "        \n",
              "  <svg xmlns=\"http://www.w3.org/2000/svg\" height=\"24px\"viewBox=\"0 0 24 24\"\n",
              "       width=\"24px\">\n",
              "    <path d=\"M0 0h24v24H0V0z\" fill=\"none\"/>\n",
              "    <path d=\"M18.56 5.44l.94 2.06.94-2.06 2.06-.94-2.06-.94-.94-2.06-.94 2.06-2.06.94zm-11 1L8.5 8.5l.94-2.06 2.06-.94-2.06-.94L8.5 2.5l-.94 2.06-2.06.94zm10 10l.94 2.06.94-2.06 2.06-.94-2.06-.94-.94-2.06-.94 2.06-2.06.94z\"/><path d=\"M17.41 7.96l-1.37-1.37c-.4-.4-.92-.59-1.43-.59-.52 0-1.04.2-1.43.59L10.3 9.45l-7.72 7.72c-.78.78-.78 2.05 0 2.83L4 21.41c.39.39.9.59 1.41.59.51 0 1.02-.2 1.41-.59l7.78-7.78 2.81-2.81c.8-.78.8-2.07 0-2.86zM5.41 20L4 18.59l7.72-7.72 1.47 1.35L5.41 20z\"/>\n",
              "  </svg>\n",
              "      </button>\n",
              "      \n",
              "  <style>\n",
              "    .colab-df-container {\n",
              "      display:flex;\n",
              "      flex-wrap:wrap;\n",
              "      gap: 12px;\n",
              "    }\n",
              "\n",
              "    .colab-df-convert {\n",
              "      background-color: #E8F0FE;\n",
              "      border: none;\n",
              "      border-radius: 50%;\n",
              "      cursor: pointer;\n",
              "      display: none;\n",
              "      fill: #1967D2;\n",
              "      height: 32px;\n",
              "      padding: 0 0 0 0;\n",
              "      width: 32px;\n",
              "    }\n",
              "\n",
              "    .colab-df-convert:hover {\n",
              "      background-color: #E2EBFA;\n",
              "      box-shadow: 0px 1px 2px rgba(60, 64, 67, 0.3), 0px 1px 3px 1px rgba(60, 64, 67, 0.15);\n",
              "      fill: #174EA6;\n",
              "    }\n",
              "\n",
              "    [theme=dark] .colab-df-convert {\n",
              "      background-color: #3B4455;\n",
              "      fill: #D2E3FC;\n",
              "    }\n",
              "\n",
              "    [theme=dark] .colab-df-convert:hover {\n",
              "      background-color: #434B5C;\n",
              "      box-shadow: 0px 1px 3px 1px rgba(0, 0, 0, 0.15);\n",
              "      filter: drop-shadow(0px 1px 2px rgba(0, 0, 0, 0.3));\n",
              "      fill: #FFFFFF;\n",
              "    }\n",
              "  </style>\n",
              "\n",
              "      <script>\n",
              "        const buttonEl =\n",
              "          document.querySelector('#df-37a6f103-3658-4c4b-971a-e27704d54182 button.colab-df-convert');\n",
              "        buttonEl.style.display =\n",
              "          google.colab.kernel.accessAllowed ? 'block' : 'none';\n",
              "\n",
              "        async function convertToInteractive(key) {\n",
              "          const element = document.querySelector('#df-37a6f103-3658-4c4b-971a-e27704d54182');\n",
              "          const dataTable =\n",
              "            await google.colab.kernel.invokeFunction('convertToInteractive',\n",
              "                                                     [key], {});\n",
              "          if (!dataTable) return;\n",
              "\n",
              "          const docLinkHtml = 'Like what you see? Visit the ' +\n",
              "            '<a target=\"_blank\" href=https://colab.research.google.com/notebooks/data_table.ipynb>data table notebook</a>'\n",
              "            + ' to learn more about interactive tables.';\n",
              "          element.innerHTML = '';\n",
              "          dataTable['output_type'] = 'display_data';\n",
              "          await google.colab.output.renderOutput(dataTable, element);\n",
              "          const docLink = document.createElement('div');\n",
              "          docLink.innerHTML = docLinkHtml;\n",
              "          element.appendChild(docLink);\n",
              "        }\n",
              "      </script>\n",
              "    </div>\n",
              "  </div>\n",
              "  "
            ]
          },
          "metadata": {},
          "execution_count": 55
        }
      ]
    },
    {
      "cell_type": "markdown",
      "id": "5f3cc6df",
      "metadata": {
        "id": "5f3cc6df"
      },
      "source": [
        "## Subset 2 Binning (Top 4 variables)"
      ]
    },
    {
      "cell_type": "markdown",
      "id": "20fffa64",
      "metadata": {
        "id": "20fffa64"
      },
      "source": [
        "### Binning: Duration"
      ]
    },
    {
      "cell_type": "code",
      "execution_count": null,
      "id": "bceb4565",
      "metadata": {
        "colab": {
          "base_uri": "https://localhost:8080/"
        },
        "id": "bceb4565",
        "outputId": "c800c1c9-bacb-4256-8618-0f10d244f758"
      },
      "outputs": [
        {
          "output_type": "stream",
          "name": "stdout",
          "text": [
            "Optimal binning for Duration:\n",
            "                   Bin  Count  Count (%)  Non-event  Event  Event rate  \\\n",
            "0         (-inf, 8.00)     34   0.121429         33      1    0.029412   \n",
            "1        [8.00, 16.50)    117   0.417857        105     12    0.102564   \n",
            "2       [16.50, 21.50)     44   0.157143         32     12    0.272727   \n",
            "3       [21.50, 25.50)     62   0.221429         56      6    0.096774   \n",
            "4         [25.50, inf)     23   0.082143         22      1    0.043478   \n",
            "5              Special      0   0.000000          0      0    0.000000   \n",
            "6              Missing      0   0.000000          0      0    0.000000   \n",
            "Totals                    280   1.000000        248     32    0.114286   \n",
            "\n",
            "             WoE        IV        JS  \n",
            "0       1.448815  0.147510  0.016978  \n",
            "1       0.121361  0.005872  0.000734  \n",
            "2      -1.066864  0.262414  0.031330  \n",
            "3       0.185899  0.007121  0.000889  \n",
            "4        1.04335  0.059951  0.007171  \n",
            "5            0.0  0.000000  0.000000  \n",
            "6            0.0  0.000000  0.000000  \n",
            "Totals            0.482868  0.057102  \n"
          ]
        }
      ],
      "source": [
        "# Optimal binning for Duration\n",
        "optb_duration2 = OptimalBinning(name='Duration', dtype='numerical', solver='cp')\n",
        "optb_duration2.fit(X2_train['Duration'], y2_train)\n",
        "binning_table_duration2 = optb_duration2.binning_table.build()\n",
        "print(\"Optimal binning for Duration:\")\n",
        "print(binning_table_duration2)"
      ]
    },
    {
      "cell_type": "markdown",
      "source": [
        "#### Customized Binning"
      ],
      "metadata": {
        "id": "ofrMB8TjEcxA"
      },
      "id": "ofrMB8TjEcxA"
    },
    {
      "cell_type": "code",
      "source": [
        "# Optimal binning for Duration\n",
        "optb_duration2_adjusted = OptimalBinning(name='Duration', dtype='numerical', solver='cp', max_n_bins=4)\n",
        "optb_duration2_adjusted.fit(X2_train['Duration'], y2_train)\n",
        "binning_table_duration2_adjusted = optb_duration2_adjusted.binning_table.build()\n",
        "print(\"Optimal binning for Duration:\")\n",
        "print(binning_table_duration2_adjusted)\n"
      ],
      "metadata": {
        "colab": {
          "base_uri": "https://localhost:8080/"
        },
        "id": "brVvLcM0p774",
        "outputId": "886bbc3e-b580-47de-c9df-d300bc2eda0e"
      },
      "id": "brVvLcM0p774",
      "execution_count": null,
      "outputs": [
        {
          "output_type": "stream",
          "name": "stdout",
          "text": [
            "Optimal binning for Duration:\n",
            "                   Bin  Count  Count (%)  Non-event  Event  Event rate  \\\n",
            "0         (-inf, 8.00)     34   0.121429         33      1    0.029412   \n",
            "1        [8.00, 16.50)    117   0.417857        105     12    0.102564   \n",
            "2       [16.50, 21.50)     44   0.157143         32     12    0.272727   \n",
            "3         [21.50, inf)     85   0.303571         78      7    0.082353   \n",
            "4              Special      0   0.000000          0      0    0.000000   \n",
            "5              Missing      0   0.000000          0      0    0.000000   \n",
            "Totals                    280   1.000000        248     32    0.114286   \n",
            "\n",
            "             WoE        IV        JS  \n",
            "0       1.448815  0.147510  0.016978  \n",
            "1       0.121361  0.005872  0.000734  \n",
            "2      -1.066864  0.262414  0.031330  \n",
            "3       0.363106  0.034773  0.004323  \n",
            "4            0.0  0.000000  0.000000  \n",
            "5            0.0  0.000000  0.000000  \n",
            "Totals            0.450570  0.053365  \n"
          ]
        }
      ]
    },
    {
      "cell_type": "markdown",
      "id": "995c1213",
      "metadata": {
        "id": "995c1213"
      },
      "source": [
        "### Binning: History"
      ]
    },
    {
      "cell_type": "code",
      "execution_count": null,
      "id": "328f4dfd",
      "metadata": {
        "colab": {
          "base_uri": "https://localhost:8080/"
        },
        "id": "328f4dfd",
        "outputId": "e5c7889d-f875-43c3-9583-637b83b37ef7"
      },
      "outputs": [
        {
          "output_type": "stream",
          "name": "stdout",
          "text": [
            "Optimal binning for History (Subset 2):\n",
            "            Bin  Count  Count (%)  Non-event  Event  Event rate       WoE  \\\n",
            "0           [4]     95   0.339286         90      5    0.052632  0.842679   \n",
            "1        [2, 1]    156   0.557143        138     18    0.115385 -0.010811   \n",
            "2        [3, 0]     29   0.103571         20      9    0.310345 -1.249185   \n",
            "3       Special      0   0.000000          0      0    0.000000       0.0   \n",
            "4       Missing      0   0.000000          0      0    0.000000       0.0   \n",
            "Totals             280   1.000000        248     32    0.114286             \n",
            "\n",
            "              IV        JS  \n",
            "0       0.174142  0.021146  \n",
            "1       0.000065  0.000008  \n",
            "2       0.250593  0.029434  \n",
            "3       0.000000  0.000000  \n",
            "4       0.000000  0.000000  \n",
            "Totals  0.424800  0.050588  \n"
          ]
        }
      ],
      "source": [
        "# Optimal binning for History\n",
        "optb_history2 = OptimalBinning(name='History', dtype='categorical', solver='cp')\n",
        "optb_history2.fit(X2_train['History'], y2_train)\n",
        "binning_table_history2 = optb_history2.binning_table.build()\n",
        "print(\"Optimal binning for History (Subset 2):\")\n",
        "print(binning_table_history2)"
      ]
    },
    {
      "cell_type": "markdown",
      "source": [
        "#### Customized Binning"
      ],
      "metadata": {
        "id": "sRDUiNGoEeSG"
      },
      "id": "sRDUiNGoEeSG"
    },
    {
      "cell_type": "code",
      "source": [
        "# Optimal binning for History\n",
        "optb_history2_adjusted = OptimalBinning(name='History', dtype='categorical', solver='cp', max_n_bins=2)\n",
        "optb_history2_adjusted.fit(X2_train['History'], y2_train)\n",
        "binning_table_history2_adjusted = optb_history2_adjusted.binning_table.build()\n",
        "print(\"Optimal binning for History (Subset 2):\")\n",
        "print(binning_table_history2_adjusted)\n"
      ],
      "metadata": {
        "colab": {
          "base_uri": "https://localhost:8080/"
        },
        "id": "-c_Wzf0hp6l-",
        "outputId": "95c752ea-e8ea-47f7-add1-696abe2142e7"
      },
      "id": "-c_Wzf0hp6l-",
      "execution_count": null,
      "outputs": [
        {
          "output_type": "stream",
          "name": "stdout",
          "text": [
            "Optimal binning for History (Subset 2):\n",
            "              Bin  Count  Count (%)  Non-event  Event  Event rate       WoE  \\\n",
            "0       [4, 2, 1]    251   0.896429        228     23    0.091633  0.246159   \n",
            "1          [3, 0]     29   0.103571         20      9    0.310345 -1.249185   \n",
            "2         Special      0   0.000000          0      0    0.000000       0.0   \n",
            "3         Missing      0   0.000000          0      0    0.000000       0.0   \n",
            "Totals               280   1.000000        248     32    0.114286             \n",
            "\n",
            "              IV        JS  \n",
            "0       0.049381  0.006157  \n",
            "1       0.250593  0.029434  \n",
            "2       0.000000  0.000000  \n",
            "3       0.000000  0.000000  \n",
            "Totals  0.299973  0.035591  \n"
          ]
        }
      ]
    },
    {
      "cell_type": "markdown",
      "id": "f8696f71",
      "metadata": {
        "id": "f8696f71"
      },
      "source": [
        "### Binning: Amount"
      ]
    },
    {
      "cell_type": "code",
      "execution_count": null,
      "id": "b5c2ab04",
      "metadata": {
        "colab": {
          "base_uri": "https://localhost:8080/"
        },
        "id": "b5c2ab04",
        "outputId": "9023e773-1b6c-4054-e9e1-374c8297f4c5"
      },
      "outputs": [
        {
          "output_type": "stream",
          "name": "stdout",
          "text": [
            "Optimal binning for Amount (Subset 2):\n",
            "                       Bin  Count  Count (%)  Non-event  Event  Event rate  \\\n",
            "0           (-inf, 953.50)     33   0.117857         28      5    0.151515   \n",
            "1        [953.50, 1561.50)     72   0.257143         63      9    0.125000   \n",
            "2       [1561.50, 2803.00)     89   0.317857         79     10    0.112360   \n",
            "3       [2803.00, 4152.00)     54   0.192857         53      1    0.018519   \n",
            "4           [4152.00, inf)     32   0.114286         25      7    0.218750   \n",
            "5                  Special      0   0.000000          0      0    0.000000   \n",
            "6                  Missing      0   0.000000          0      0    0.000000   \n",
            "Totals                        280   1.000000        248     32    0.114286   \n",
            "\n",
            "             WoE        IV        JS  \n",
            "0      -0.324926  0.014085  0.001753  \n",
            "1      -0.101783  0.002770  0.000346  \n",
            "2        0.01917  0.000116  0.000014  \n",
            "3       1.922599  0.350797  0.038140  \n",
            "4      -0.774727  0.091374  0.011144  \n",
            "5            0.0  0.000000  0.000000  \n",
            "6            0.0  0.000000  0.000000  \n",
            "Totals            0.459142  0.051398  \n"
          ]
        }
      ],
      "source": [
        "# Optimal binning for Amount\n",
        "optb_amount = OptimalBinning(name='Amount', dtype='numerical', solver='cp')\n",
        "optb_amount.fit(X2_train['Amount'], y2_train)\n",
        "binning_table_amount = optb_amount.binning_table.build()\n",
        "print(\"Optimal binning for Amount (Subset 2):\")\n",
        "print(binning_table_amount)"
      ]
    },
    {
      "cell_type": "markdown",
      "source": [
        "#### Customized Binning"
      ],
      "metadata": {
        "id": "0UJBQK0rEe22"
      },
      "id": "0UJBQK0rEe22"
    },
    {
      "cell_type": "code",
      "source": [
        "# Optimal binning for Amount\n",
        "optb_amount_adjusted = OptimalBinning(name='Amount', dtype='numerical', solver='cp', max_n_bins=3)\n",
        "optb_amount_adjusted.fit(X2_train['Amount'], y2_train)\n",
        "binning_table_amount_adjusted = optb_amount_adjusted.binning_table.build()\n",
        "print(\"Optimal binning for Amount (Subset 2):\")\n",
        "print(binning_table_amount_adjusted)\n"
      ],
      "metadata": {
        "colab": {
          "base_uri": "https://localhost:8080/"
        },
        "id": "nr7uHq_Ap7gg",
        "outputId": "d8296013-8132-4376-b07e-05cf8241556d"
      },
      "id": "nr7uHq_Ap7gg",
      "execution_count": null,
      "outputs": [
        {
          "output_type": "stream",
          "name": "stdout",
          "text": [
            "Optimal binning for Amount (Subset 2):\n",
            "                       Bin  Count  Count (%)  Non-event  Event  Event rate  \\\n",
            "0          (-inf, 2803.00)    194   0.692857        170     24    0.123711   \n",
            "1       [2803.00, 4152.00)     54   0.192857         53      1    0.018519   \n",
            "2           [4152.00, inf)     32   0.114286         25      7    0.218750   \n",
            "3                  Special      0   0.000000          0      0    0.000000   \n",
            "4                  Missing      0   0.000000          0      0    0.000000   \n",
            "Totals                        280   1.000000        248     32    0.114286   \n",
            "\n",
            "             WoE        IV        JS  \n",
            "0      -0.089948  0.005803  0.000725  \n",
            "1       1.922599  0.350797  0.038140  \n",
            "2      -0.774727  0.091374  0.011144  \n",
            "3            0.0  0.000000  0.000000  \n",
            "4            0.0  0.000000  0.000000  \n",
            "Totals            0.447974  0.050010  \n"
          ]
        }
      ]
    },
    {
      "cell_type": "markdown",
      "id": "46994638",
      "metadata": {
        "id": "46994638"
      },
      "source": [
        "### Binning: Purpose"
      ]
    },
    {
      "cell_type": "code",
      "execution_count": null,
      "id": "d9068a9e",
      "metadata": {
        "colab": {
          "base_uri": "https://localhost:8080/"
        },
        "id": "d9068a9e",
        "outputId": "df0ca5bd-73de-4a26-f34d-9f35ae255713"
      },
      "outputs": [
        {
          "output_type": "stream",
          "name": "stdout",
          "text": [
            "Optimal binning for Purpose:\n",
            "                 Bin  Count  Count (%)  Non-event  Event  Event rate  \\\n",
            "0       [1, 4, 8, 3]    132   0.471429        123      9    0.068182   \n",
            "1                [2]     44   0.157143         39      5    0.113636   \n",
            "2                [6]     14   0.050000         12      2    0.142857   \n",
            "3                [0]     61   0.217857         51     10    0.163934   \n",
            "4             [9, 5]     29   0.103571         23      6    0.206897   \n",
            "5            Special      0   0.000000          0      0    0.000000   \n",
            "6            Missing      0   0.000000          0      0    0.000000   \n",
            "Totals                  280   1.000000        248     32    0.114286   \n",
            "\n",
            "             WoE        IV            JS  \n",
            "0       0.567267  0.121802  1.502437e-02  \n",
            "1       0.006431  0.000006  8.103426e-07  \n",
            "2      -0.255933  0.003612  4.502671e-04  \n",
            "3      -0.418452  0.044714  5.548782e-03  \n",
            "4      -0.703958  0.066706  8.170200e-03  \n",
            "5            0.0  0.000000  0.000000e+00  \n",
            "6            0.0  0.000000  0.000000e+00  \n",
            "Totals            0.236840  2.919443e-02  \n"
          ]
        }
      ],
      "source": [
        "# Optimal binning for Purpose\n",
        "optb_purpose = OptimalBinning(name='Purpose', dtype='categorical', solver='cp')\n",
        "optb_purpose.fit(X2_train['Purpose'], y2_train)\n",
        "binning_table_purpose = optb_purpose.binning_table.build()\n",
        "print(\"Optimal binning for Purpose:\")\n",
        "print(binning_table_purpose)\n"
      ]
    },
    {
      "cell_type": "markdown",
      "source": [
        "#### Customized Binning"
      ],
      "metadata": {
        "id": "mvgybMzrEfd4"
      },
      "id": "mvgybMzrEfd4"
    },
    {
      "cell_type": "code",
      "source": [
        "# Optimal binning for Purpose\n",
        "optb_purpose_adjusted = OptimalBinning(name='Purpose', dtype='categorical', solver='cp', max_n_bins=4)\n",
        "optb_purpose_adjusted.fit(X2_train['Purpose'], y2_train)\n",
        "binning_table_purpose_adjusted = optb_purpose_adjusted.binning_table.build()\n",
        "print(\"Optimal binning for Purpose:\")\n",
        "print(binning_table_purpose_adjusted)\n"
      ],
      "metadata": {
        "colab": {
          "base_uri": "https://localhost:8080/"
        },
        "id": "9bwXy4-Ep7ET",
        "outputId": "b1388941-36f9-4232-b84d-9d611221d686"
      },
      "id": "9bwXy4-Ep7ET",
      "execution_count": null,
      "outputs": [
        {
          "output_type": "stream",
          "name": "stdout",
          "text": [
            "Optimal binning for Purpose:\n",
            "                 Bin  Count  Count (%)  Non-event  Event  Event rate  \\\n",
            "0       [1, 4, 8, 3]    132   0.471429        123      9    0.068182   \n",
            "1                [2]     44   0.157143         39      5    0.113636   \n",
            "2             [6, 0]     75   0.267857         63     12    0.160000   \n",
            "3             [9, 5]     29   0.103571         23      6    0.206897   \n",
            "4            Special      0   0.000000          0      0    0.000000   \n",
            "5            Missing      0   0.000000          0      0    0.000000   \n",
            "Totals                  280   1.000000        248     32    0.114286   \n",
            "\n",
            "             WoE        IV            JS  \n",
            "0       0.567267  0.121802  1.502437e-02  \n",
            "1       0.006431  0.000006  8.103426e-07  \n",
            "2      -0.389465  0.047113  5.852144e-03  \n",
            "3      -0.703958  0.066706  8.170200e-03  \n",
            "4            0.0  0.000000  0.000000e+00  \n",
            "5            0.0  0.000000  0.000000e+00  \n",
            "Totals            0.235627  2.904753e-02  \n"
          ]
        }
      ]
    },
    {
      "cell_type": "markdown",
      "id": "1261872c",
      "metadata": {
        "id": "1261872c"
      },
      "source": [
        "### Transform and Encode Training Set"
      ]
    },
    {
      "cell_type": "code",
      "execution_count": null,
      "id": "d8fb10c7",
      "metadata": {
        "id": "d8fb10c7"
      },
      "outputs": [],
      "source": [
        "# Transform the original variables into their binned categories\n",
        "X2_train_transformed = X2_train.copy()\n",
        "X2_train_transformed['History'] = optb_history2.transform(X2_train_transformed['History'], metric='bins')\n",
        "X2_train_transformed['Purpose'] = optb_purpose_adjusted.transform(X2_train_transformed['Purpose'], metric='bins')\n",
        "X2_train_transformed['Amount'] = optb_amount_adjusted.transform(X2_train_transformed['Amount'], metric='bins')\n",
        "X2_train_transformed['Duration'] = optb_duration2_adjusted.transform(X2_train_transformed['Duration'], metric='bins')\n",
        "\n",
        "\n",
        "\n",
        "# Ordinal Encoding\n",
        "\n",
        "# Obtain the bin labels for the binned Duration variable from the binning table\n",
        "bin_labels = binning_table_duration2_adjusted['Bin'].tolist()\n",
        "# Create an instance of the OrdinalEncoder with categories set to the sorted bin labels\n",
        "encoder2 = OrdinalEncoder(categories=[bin_labels], dtype=int)\n",
        "# Encode the Duration variable in the X1_train_transformed dataframe using the OrdinalEncoder\n",
        "X2_train_transformed['Duration'] = encoder2.fit_transform(X2_train_transformed[['Duration']])\n",
        "\n",
        "\n",
        "\n",
        "# Obtain the bin labels for the binned Duration variable from the binning table\n",
        "bin_labels = binning_table_amount_adjusted['Bin'].tolist()\n",
        "# Create an instance of the OrdinalEncoder with categories set to the sorted bin labels\n",
        "encoder2 = OrdinalEncoder(categories=[bin_labels], dtype=int)\n",
        "# Encode the Duration variable in the X1_train_transformed dataframe using the OrdinalEncoder\n",
        "X2_train_transformed['Amount'] = encoder2.fit_transform(X2_train_transformed[['Amount']])\n",
        "\n",
        "\n",
        "\n",
        "\n",
        "# One-hot Encoding\n",
        "from sklearn.preprocessing import OneHotEncoder\n",
        "\n",
        "# Instantiate the OneHotEncoder, specify the columns to encode, and set the drop parameter to 'first'\n",
        "encoder = OneHotEncoder(sparse=False, drop='first')\n",
        "X2_train_encoded = encoder.fit_transform(X2_train_transformed[['History', 'Purpose']])\n",
        "\n",
        "# Create a DataFrame with the encoded columns and their respective names\n",
        "encoded_columns = encoder.get_feature_names_out(['History', 'Purpose'])\n",
        "X2_train_encoded_df = pd.DataFrame(X2_train_encoded, columns=encoded_columns, index=X2_train_transformed.index)\n",
        "\n",
        "# Drop the original 'History', 'Purpose', and 'Foreign' columns and concatenate the encoded DataFrame\n",
        "X2_train_transformed.drop(['History', 'Purpose'], axis=1, inplace=True)\n",
        "X2_train_transformed = pd.concat([X2_train_transformed, X2_train_encoded_df], axis=1)\n",
        "\n",
        "# Select the desired columns from X2_train_transformed\n",
        "selected_columns = ['History_[3 0]', 'History_[4]', 'Purpose_[2]', 'Purpose_[6 0]', 'Purpose_[9 5]', 'Duration', 'Amount']\n",
        "X2_train_transformed = X2_train_transformed[selected_columns]\n"
      ]
    },
    {
      "cell_type": "markdown",
      "source": [
        "### Transform and Encode Validation Set"
      ],
      "metadata": {
        "id": "r10dI_MQi-tb"
      },
      "id": "r10dI_MQi-tb"
    },
    {
      "cell_type": "code",
      "execution_count": null,
      "metadata": {
        "id": "9a4e79eb"
      },
      "outputs": [],
      "source": [
        "# Transform the original variables into their binned categories\n",
        "X2_val_transformed = X2_val.copy()\n",
        "X2_val_transformed['History'] = optb_history2.transform(X2_val_transformed['History'], metric='bins')\n",
        "X2_val_transformed['Purpose'] = optb_purpose_adjusted.transform(X2_val_transformed['Purpose'], metric='bins')\n",
        "X2_val_transformed['Duration'] = optb_duration2_adjusted.transform(X2_val_transformed['Duration'], metric='bins')\n",
        "X2_val_transformed['Amount'] = optb_amount_adjusted.transform(X2_val_transformed['Amount'], metric='bins')\n",
        "\n",
        "\n",
        "\n",
        "\n",
        "# Ordinal Encoding\n",
        "\n",
        "# Obtain the bin labels for the binned Duration variable from the binning table\n",
        "bin_labels = binning_table_duration2_adjusted['Bin'].tolist()\n",
        "# Create an instance of the OrdinalEncoder with categories set to the sorted bin labels\n",
        "encoder2 = OrdinalEncoder(categories=[bin_labels], dtype=int)\n",
        "# Encode the Duration variable in the X1_train_transformed dataframe using the OrdinalEncoder\n",
        "X2_val_transformed['Duration'] = encoder2.fit_transform(X2_val_transformed[['Duration']])\n",
        "\n",
        "\n",
        "\n",
        "# Obtain the bin labels for the binned Duration variable from the binning table\n",
        "bin_labels = binning_table_amount_adjusted['Bin'].tolist()\n",
        "# Create an instance of the OrdinalEncoder with categories set to the sorted bin labels\n",
        "encoder2 = OrdinalEncoder(categories=[bin_labels], dtype=int)\n",
        "# Encode the Duration variable in the X1_train_transformed dataframe using the OrdinalEncoder\n",
        "X2_val_transformed['Amount'] = encoder2.fit_transform(X2_val_transformed[['Amount']])\n",
        "\n",
        "\n",
        "# One-hot Encoding\n",
        "from sklearn.preprocessing import OneHotEncoder\n",
        "\n",
        "# Instantiate the OneHotEncoder, specify the columns to encode, and set the drop parameter to 'first'\n",
        "encoder = OneHotEncoder(sparse=False, drop='first')\n",
        "X2_val_encoded = encoder.fit_transform(X2_val_transformed[['History', 'Purpose']])\n",
        "\n",
        "# Create a DataFrame with the encoded columns and their respective names\n",
        "encoded_columns = encoder.get_feature_names_out(['History', 'Purpose'])\n",
        "X2_val_encoded_df = pd.DataFrame(X2_val_encoded, columns=encoded_columns, index=X2_val_transformed.index)\n",
        "\n",
        "# Drop the original 'History', 'Purpose', and 'Foreign' columns and concatenate the encoded DataFrame\n",
        "X2_val_transformed.drop(['History', 'Purpose'], axis=1, inplace=True)\n",
        "X2_val_transformed = pd.concat([X2_val_transformed, X2_val_encoded_df], axis=1)\n",
        "\n",
        "# Select the desired columns from X2_val_transformed\n",
        "X2_val_transformed = X2_val_transformed[selected_columns]\n",
        "\n",
        "X2_val_transformed\n"
      ],
      "id": "9a4e79eb"
    },
    {
      "cell_type": "markdown",
      "source": [
        "### Binary variables Subset 2"
      ],
      "metadata": {
        "id": "ymvCSFJbb2D_"
      },
      "id": "ymvCSFJbb2D_"
    },
    {
      "cell_type": "code",
      "source": [
        "X2_train_transformed"
      ],
      "metadata": {
        "colab": {
          "base_uri": "https://localhost:8080/",
          "height": 424
        },
        "id": "SG-pfM7RcAPQ",
        "outputId": "7c2dd595-da81-47d5-f20f-043124116249"
      },
      "id": "SG-pfM7RcAPQ",
      "execution_count": null,
      "outputs": [
        {
          "output_type": "execute_result",
          "data": {
            "text/plain": [
              "     History_[3 0]  History_[4]  Purpose_[2]  Purpose_[6 0]  Purpose_[9 5]  \\\n",
              "231            0.0          0.0          0.0            1.0            0.0   \n",
              "190            0.0          0.0          0.0            0.0            1.0   \n",
              "232            0.0          0.0          0.0            0.0            0.0   \n",
              "786            0.0          0.0          0.0            0.0            0.0   \n",
              "314            0.0          0.0          0.0            1.0            0.0   \n",
              "..             ...          ...          ...            ...            ...   \n",
              "263            0.0          1.0          0.0            1.0            0.0   \n",
              "660            0.0          0.0          0.0            0.0            0.0   \n",
              "210            0.0          1.0          0.0            0.0            0.0   \n",
              "990            0.0          1.0          0.0            1.0            0.0   \n",
              "469            1.0          0.0          0.0            0.0            0.0   \n",
              "\n",
              "     Duration  Amount  \n",
              "231         1       0  \n",
              "190         3       2  \n",
              "232         1       0  \n",
              "786         3       0  \n",
              "314         0       0  \n",
              "..        ...     ...  \n",
              "263         1       0  \n",
              "660         1       0  \n",
              "210         1       1  \n",
              "990         1       1  \n",
              "469         3       2  \n",
              "\n",
              "[280 rows x 7 columns]"
            ],
            "text/html": [
              "\n",
              "  <div id=\"df-58bd6ab8-3549-4cf7-b9d4-f1f0fffc7ca7\">\n",
              "    <div class=\"colab-df-container\">\n",
              "      <div>\n",
              "<style scoped>\n",
              "    .dataframe tbody tr th:only-of-type {\n",
              "        vertical-align: middle;\n",
              "    }\n",
              "\n",
              "    .dataframe tbody tr th {\n",
              "        vertical-align: top;\n",
              "    }\n",
              "\n",
              "    .dataframe thead th {\n",
              "        text-align: right;\n",
              "    }\n",
              "</style>\n",
              "<table border=\"1\" class=\"dataframe\">\n",
              "  <thead>\n",
              "    <tr style=\"text-align: right;\">\n",
              "      <th></th>\n",
              "      <th>History_[3 0]</th>\n",
              "      <th>History_[4]</th>\n",
              "      <th>Purpose_[2]</th>\n",
              "      <th>Purpose_[6 0]</th>\n",
              "      <th>Purpose_[9 5]</th>\n",
              "      <th>Duration</th>\n",
              "      <th>Amount</th>\n",
              "    </tr>\n",
              "  </thead>\n",
              "  <tbody>\n",
              "    <tr>\n",
              "      <th>231</th>\n",
              "      <td>0.0</td>\n",
              "      <td>0.0</td>\n",
              "      <td>0.0</td>\n",
              "      <td>1.0</td>\n",
              "      <td>0.0</td>\n",
              "      <td>1</td>\n",
              "      <td>0</td>\n",
              "    </tr>\n",
              "    <tr>\n",
              "      <th>190</th>\n",
              "      <td>0.0</td>\n",
              "      <td>0.0</td>\n",
              "      <td>0.0</td>\n",
              "      <td>0.0</td>\n",
              "      <td>1.0</td>\n",
              "      <td>3</td>\n",
              "      <td>2</td>\n",
              "    </tr>\n",
              "    <tr>\n",
              "      <th>232</th>\n",
              "      <td>0.0</td>\n",
              "      <td>0.0</td>\n",
              "      <td>0.0</td>\n",
              "      <td>0.0</td>\n",
              "      <td>0.0</td>\n",
              "      <td>1</td>\n",
              "      <td>0</td>\n",
              "    </tr>\n",
              "    <tr>\n",
              "      <th>786</th>\n",
              "      <td>0.0</td>\n",
              "      <td>0.0</td>\n",
              "      <td>0.0</td>\n",
              "      <td>0.0</td>\n",
              "      <td>0.0</td>\n",
              "      <td>3</td>\n",
              "      <td>0</td>\n",
              "    </tr>\n",
              "    <tr>\n",
              "      <th>314</th>\n",
              "      <td>0.0</td>\n",
              "      <td>0.0</td>\n",
              "      <td>0.0</td>\n",
              "      <td>1.0</td>\n",
              "      <td>0.0</td>\n",
              "      <td>0</td>\n",
              "      <td>0</td>\n",
              "    </tr>\n",
              "    <tr>\n",
              "      <th>...</th>\n",
              "      <td>...</td>\n",
              "      <td>...</td>\n",
              "      <td>...</td>\n",
              "      <td>...</td>\n",
              "      <td>...</td>\n",
              "      <td>...</td>\n",
              "      <td>...</td>\n",
              "    </tr>\n",
              "    <tr>\n",
              "      <th>263</th>\n",
              "      <td>0.0</td>\n",
              "      <td>1.0</td>\n",
              "      <td>0.0</td>\n",
              "      <td>1.0</td>\n",
              "      <td>0.0</td>\n",
              "      <td>1</td>\n",
              "      <td>0</td>\n",
              "    </tr>\n",
              "    <tr>\n",
              "      <th>660</th>\n",
              "      <td>0.0</td>\n",
              "      <td>0.0</td>\n",
              "      <td>0.0</td>\n",
              "      <td>0.0</td>\n",
              "      <td>0.0</td>\n",
              "      <td>1</td>\n",
              "      <td>0</td>\n",
              "    </tr>\n",
              "    <tr>\n",
              "      <th>210</th>\n",
              "      <td>0.0</td>\n",
              "      <td>1.0</td>\n",
              "      <td>0.0</td>\n",
              "      <td>0.0</td>\n",
              "      <td>0.0</td>\n",
              "      <td>1</td>\n",
              "      <td>1</td>\n",
              "    </tr>\n",
              "    <tr>\n",
              "      <th>990</th>\n",
              "      <td>0.0</td>\n",
              "      <td>1.0</td>\n",
              "      <td>0.0</td>\n",
              "      <td>1.0</td>\n",
              "      <td>0.0</td>\n",
              "      <td>1</td>\n",
              "      <td>1</td>\n",
              "    </tr>\n",
              "    <tr>\n",
              "      <th>469</th>\n",
              "      <td>1.0</td>\n",
              "      <td>0.0</td>\n",
              "      <td>0.0</td>\n",
              "      <td>0.0</td>\n",
              "      <td>0.0</td>\n",
              "      <td>3</td>\n",
              "      <td>2</td>\n",
              "    </tr>\n",
              "  </tbody>\n",
              "</table>\n",
              "<p>280 rows × 7 columns</p>\n",
              "</div>\n",
              "      <button class=\"colab-df-convert\" onclick=\"convertToInteractive('df-58bd6ab8-3549-4cf7-b9d4-f1f0fffc7ca7')\"\n",
              "              title=\"Convert this dataframe to an interactive table.\"\n",
              "              style=\"display:none;\">\n",
              "        \n",
              "  <svg xmlns=\"http://www.w3.org/2000/svg\" height=\"24px\"viewBox=\"0 0 24 24\"\n",
              "       width=\"24px\">\n",
              "    <path d=\"M0 0h24v24H0V0z\" fill=\"none\"/>\n",
              "    <path d=\"M18.56 5.44l.94 2.06.94-2.06 2.06-.94-2.06-.94-.94-2.06-.94 2.06-2.06.94zm-11 1L8.5 8.5l.94-2.06 2.06-.94-2.06-.94L8.5 2.5l-.94 2.06-2.06.94zm10 10l.94 2.06.94-2.06 2.06-.94-2.06-.94-.94-2.06-.94 2.06-2.06.94z\"/><path d=\"M17.41 7.96l-1.37-1.37c-.4-.4-.92-.59-1.43-.59-.52 0-1.04.2-1.43.59L10.3 9.45l-7.72 7.72c-.78.78-.78 2.05 0 2.83L4 21.41c.39.39.9.59 1.41.59.51 0 1.02-.2 1.41-.59l7.78-7.78 2.81-2.81c.8-.78.8-2.07 0-2.86zM5.41 20L4 18.59l7.72-7.72 1.47 1.35L5.41 20z\"/>\n",
              "  </svg>\n",
              "      </button>\n",
              "      \n",
              "  <style>\n",
              "    .colab-df-container {\n",
              "      display:flex;\n",
              "      flex-wrap:wrap;\n",
              "      gap: 12px;\n",
              "    }\n",
              "\n",
              "    .colab-df-convert {\n",
              "      background-color: #E8F0FE;\n",
              "      border: none;\n",
              "      border-radius: 50%;\n",
              "      cursor: pointer;\n",
              "      display: none;\n",
              "      fill: #1967D2;\n",
              "      height: 32px;\n",
              "      padding: 0 0 0 0;\n",
              "      width: 32px;\n",
              "    }\n",
              "\n",
              "    .colab-df-convert:hover {\n",
              "      background-color: #E2EBFA;\n",
              "      box-shadow: 0px 1px 2px rgba(60, 64, 67, 0.3), 0px 1px 3px 1px rgba(60, 64, 67, 0.15);\n",
              "      fill: #174EA6;\n",
              "    }\n",
              "\n",
              "    [theme=dark] .colab-df-convert {\n",
              "      background-color: #3B4455;\n",
              "      fill: #D2E3FC;\n",
              "    }\n",
              "\n",
              "    [theme=dark] .colab-df-convert:hover {\n",
              "      background-color: #434B5C;\n",
              "      box-shadow: 0px 1px 3px 1px rgba(0, 0, 0, 0.15);\n",
              "      filter: drop-shadow(0px 1px 2px rgba(0, 0, 0, 0.3));\n",
              "      fill: #FFFFFF;\n",
              "    }\n",
              "  </style>\n",
              "\n",
              "      <script>\n",
              "        const buttonEl =\n",
              "          document.querySelector('#df-58bd6ab8-3549-4cf7-b9d4-f1f0fffc7ca7 button.colab-df-convert');\n",
              "        buttonEl.style.display =\n",
              "          google.colab.kernel.accessAllowed ? 'block' : 'none';\n",
              "\n",
              "        async function convertToInteractive(key) {\n",
              "          const element = document.querySelector('#df-58bd6ab8-3549-4cf7-b9d4-f1f0fffc7ca7');\n",
              "          const dataTable =\n",
              "            await google.colab.kernel.invokeFunction('convertToInteractive',\n",
              "                                                     [key], {});\n",
              "          if (!dataTable) return;\n",
              "\n",
              "          const docLinkHtml = 'Like what you see? Visit the ' +\n",
              "            '<a target=\"_blank\" href=https://colab.research.google.com/notebooks/data_table.ipynb>data table notebook</a>'\n",
              "            + ' to learn more about interactive tables.';\n",
              "          element.innerHTML = '';\n",
              "          dataTable['output_type'] = 'display_data';\n",
              "          await google.colab.output.renderOutput(dataTable, element);\n",
              "          const docLink = document.createElement('div');\n",
              "          docLink.innerHTML = docLinkHtml;\n",
              "          element.appendChild(docLink);\n",
              "        }\n",
              "      </script>\n",
              "    </div>\n",
              "  </div>\n",
              "  "
            ]
          },
          "metadata": {},
          "execution_count": 66
        }
      ]
    },
    {
      "cell_type": "markdown",
      "id": "67321664",
      "metadata": {
        "id": "67321664"
      },
      "source": [
        "# Q4) Model implementation"
      ]
    },
    {
      "cell_type": "code",
      "execution_count": null,
      "id": "6c232f46",
      "metadata": {
        "colab": {
          "base_uri": "https://localhost:8080/",
          "height": 75
        },
        "id": "6c232f46",
        "outputId": "40636905-bd3e-4bd6-c54e-208d3bf72757"
      },
      "outputs": [
        {
          "output_type": "execute_result",
          "data": {
            "text/plain": [
              "LogisticRegression(max_iter=1000)"
            ],
            "text/html": [
              "<style>#sk-container-id-1 {color: black;background-color: white;}#sk-container-id-1 pre{padding: 0;}#sk-container-id-1 div.sk-toggleable {background-color: white;}#sk-container-id-1 label.sk-toggleable__label {cursor: pointer;display: block;width: 100%;margin-bottom: 0;padding: 0.3em;box-sizing: border-box;text-align: center;}#sk-container-id-1 label.sk-toggleable__label-arrow:before {content: \"▸\";float: left;margin-right: 0.25em;color: #696969;}#sk-container-id-1 label.sk-toggleable__label-arrow:hover:before {color: black;}#sk-container-id-1 div.sk-estimator:hover label.sk-toggleable__label-arrow:before {color: black;}#sk-container-id-1 div.sk-toggleable__content {max-height: 0;max-width: 0;overflow: hidden;text-align: left;background-color: #f0f8ff;}#sk-container-id-1 div.sk-toggleable__content pre {margin: 0.2em;color: black;border-radius: 0.25em;background-color: #f0f8ff;}#sk-container-id-1 input.sk-toggleable__control:checked~div.sk-toggleable__content {max-height: 200px;max-width: 100%;overflow: auto;}#sk-container-id-1 input.sk-toggleable__control:checked~label.sk-toggleable__label-arrow:before {content: \"▾\";}#sk-container-id-1 div.sk-estimator input.sk-toggleable__control:checked~label.sk-toggleable__label {background-color: #d4ebff;}#sk-container-id-1 div.sk-label input.sk-toggleable__control:checked~label.sk-toggleable__label {background-color: #d4ebff;}#sk-container-id-1 input.sk-hidden--visually {border: 0;clip: rect(1px 1px 1px 1px);clip: rect(1px, 1px, 1px, 1px);height: 1px;margin: -1px;overflow: hidden;padding: 0;position: absolute;width: 1px;}#sk-container-id-1 div.sk-estimator {font-family: monospace;background-color: #f0f8ff;border: 1px dotted black;border-radius: 0.25em;box-sizing: border-box;margin-bottom: 0.5em;}#sk-container-id-1 div.sk-estimator:hover {background-color: #d4ebff;}#sk-container-id-1 div.sk-parallel-item::after {content: \"\";width: 100%;border-bottom: 1px solid gray;flex-grow: 1;}#sk-container-id-1 div.sk-label:hover label.sk-toggleable__label {background-color: #d4ebff;}#sk-container-id-1 div.sk-serial::before {content: \"\";position: absolute;border-left: 1px solid gray;box-sizing: border-box;top: 0;bottom: 0;left: 50%;z-index: 0;}#sk-container-id-1 div.sk-serial {display: flex;flex-direction: column;align-items: center;background-color: white;padding-right: 0.2em;padding-left: 0.2em;position: relative;}#sk-container-id-1 div.sk-item {position: relative;z-index: 1;}#sk-container-id-1 div.sk-parallel {display: flex;align-items: stretch;justify-content: center;background-color: white;position: relative;}#sk-container-id-1 div.sk-item::before, #sk-container-id-1 div.sk-parallel-item::before {content: \"\";position: absolute;border-left: 1px solid gray;box-sizing: border-box;top: 0;bottom: 0;left: 50%;z-index: -1;}#sk-container-id-1 div.sk-parallel-item {display: flex;flex-direction: column;z-index: 1;position: relative;background-color: white;}#sk-container-id-1 div.sk-parallel-item:first-child::after {align-self: flex-end;width: 50%;}#sk-container-id-1 div.sk-parallel-item:last-child::after {align-self: flex-start;width: 50%;}#sk-container-id-1 div.sk-parallel-item:only-child::after {width: 0;}#sk-container-id-1 div.sk-dashed-wrapped {border: 1px dashed gray;margin: 0 0.4em 0.5em 0.4em;box-sizing: border-box;padding-bottom: 0.4em;background-color: white;}#sk-container-id-1 div.sk-label label {font-family: monospace;font-weight: bold;display: inline-block;line-height: 1.2em;}#sk-container-id-1 div.sk-label-container {text-align: center;}#sk-container-id-1 div.sk-container {/* jupyter's `normalize.less` sets `[hidden] { display: none; }` but bootstrap.min.css set `[hidden] { display: none !important; }` so we also need the `!important` here to be able to override the default hidden behavior on the sphinx rendered scikit-learn.org. See: https://github.com/scikit-learn/scikit-learn/issues/21755 */display: inline-block !important;position: relative;}#sk-container-id-1 div.sk-text-repr-fallback {display: none;}</style><div id=\"sk-container-id-1\" class=\"sk-top-container\"><div class=\"sk-text-repr-fallback\"><pre>LogisticRegression(max_iter=1000)</pre><b>In a Jupyter environment, please rerun this cell to show the HTML representation or trust the notebook. <br />On GitHub, the HTML representation is unable to render, please try loading this page with nbviewer.org.</b></div><div class=\"sk-container\" hidden><div class=\"sk-item\"><div class=\"sk-estimator sk-toggleable\"><input class=\"sk-toggleable__control sk-hidden--visually\" id=\"sk-estimator-id-1\" type=\"checkbox\" checked><label for=\"sk-estimator-id-1\" class=\"sk-toggleable__label sk-toggleable__label-arrow\">LogisticRegression</label><div class=\"sk-toggleable__content\"><pre>LogisticRegression(max_iter=1000)</pre></div></div></div></div></div>"
            ]
          },
          "metadata": {},
          "execution_count": 67
        }
      ],
      "source": [
        "from sklearn.linear_model import LinearRegression, LogisticRegression\n",
        "\n",
        "# Split the transformed training set into the feature matrix (X) and target vector (y)\n",
        "X_train1 = X1_train_transformed\n",
        "y_train1 = y1_train\n",
        "\n",
        "# Train a linear regression model for Checking = 1 or 2\n",
        "linear_model1 = LinearRegression()\n",
        "linear_model1.fit(X_train1, y_train1)\n",
        "\n",
        "# Train a logistic regression model for Checking = 1 or 2\n",
        "logistic_model1 = LogisticRegression(max_iter=1000)\n",
        "logistic_model1.fit(X_train1, y_train1)\n",
        "\n",
        "\n",
        "# Split the transformed training set into the feature matrix (X) and target vector (y)\n",
        "X_train2 = X2_train_transformed\n",
        "y_train2 = y2_train\n",
        "\n",
        "# Train a linear regression model for Checking = 3 or 4\n",
        "linear_model2 = LinearRegression()\n",
        "linear_model2.fit(X_train2, y_train2)\n",
        "\n",
        "# Train a logistic regression model for Checking = 3 or 4\n",
        "logistic_model2 = LogisticRegression(max_iter=1000)\n",
        "logistic_model2.fit(X_train2, y_train2)\n"
      ]
    },
    {
      "cell_type": "markdown",
      "id": "5a386f00",
      "metadata": {
        "id": "5a386f00"
      },
      "source": [
        "### Coefficents"
      ]
    },
    {
      "cell_type": "code",
      "execution_count": null,
      "id": "8bc5784f",
      "metadata": {
        "colab": {
          "base_uri": "https://localhost:8080/"
        },
        "id": "8bc5784f",
        "outputId": "fc1a5a6e-14e4-46ca-c738-d7858167fbea"
      },
      "outputs": [
        {
          "output_type": "stream",
          "name": "stdout",
          "text": [
            "Model: Linear Regression - Checking = 1 or 2\n",
            "Intercept: 0.3591633723403901\n",
            "Coefficients:\n",
            "History_[1]: 0.006072493418712775\n",
            "History_[2]: -0.1612201612875368\n",
            "History_[3]: -0.24001529547002642\n",
            "History_[4]: -0.3425250588515163\n",
            "Property_[3 2]: 0.11044157061144544\n",
            "Property_[4]: 0.21635410752524742\n",
            "Duration: 0.08912687111327311\n",
            "Age: -0.01697970183041357\n",
            "\n",
            "\n",
            "Model: Logistic Regression - Checking = 1 or 2\n",
            "Intercept: [-1.06911445]\n",
            "Coefficients:\n",
            "History_[1]: 0.3641174172701093\n",
            "History_[2]: -0.3178785900685967\n",
            "History_[3]: -0.5914775410846044\n",
            "History_[4]: -1.1468535144273795\n",
            "Property_[3 2]: 0.4641011673229343\n",
            "Property_[4]: 0.8709754236222877\n",
            "Duration: 0.44101727461791385\n",
            "Age: -0.08779297549529017\n",
            "\n",
            "\n",
            "Model: Linear Regression - Checking = 3 or 4\n",
            "Intercept: 0.047438761341134214\n",
            "Coefficients:\n",
            "History_[3 0]: 0.18282654551665628\n",
            "History_[4]: -0.065717289663977\n",
            "Purpose_[2]: 0.048480317592384053\n",
            "Purpose_[6 0]: 0.10145717106573528\n",
            "Purpose_[9 5]: 0.06942370203986799\n",
            "Duration: 0.017447480326388636\n",
            "Amount: -0.0010443270399388901\n",
            "\n",
            "\n",
            "Model: Logistic Regression - Checking = 3 or 4\n",
            "Intercept: [-2.62910557]\n",
            "Coefficients:\n",
            "History_[3 0]: 0.9846737794542854\n",
            "History_[4]: -0.7540548498542532\n",
            "Purpose_[2]: 0.33369614789284796\n",
            "Purpose_[6 0]: 0.7994972043335203\n",
            "Purpose_[9 5]: 0.4935544253195002\n",
            "Duration: 0.15561495756397017\n",
            "Amount: 0.011007869672980307\n",
            "\n",
            "\n"
          ]
        }
      ],
      "source": [
        "def display_coefficients(model, feature_names, model_name, dataset_name):\n",
        "    coef = model.coef_\n",
        "    intercept = model.intercept_\n",
        "    print(f\"Model: {model_name} - {dataset_name}\")\n",
        "    print(\"Intercept:\", intercept)\n",
        "    print(\"Coefficients:\")\n",
        "    if len(coef.shape) == 2:\n",
        "        coef = coef.flatten()\n",
        "    for feature, coeff in zip(feature_names, coef):\n",
        "        print(f\"{feature}: {coeff}\")\n",
        "    print(\"\\n\")\n",
        "\n",
        "\n",
        "# Display coefficients for all models\n",
        "display_coefficients(linear_model1, X1_train_transformed.columns, \"Linear Regression\", \"Checking = 1 or 2\")\n",
        "display_coefficients(logistic_model1, X1_train_transformed.columns, \"Logistic Regression\", \"Checking = 1 or 2\")\n",
        "display_coefficients(linear_model2, X2_train_transformed.columns, \"Linear Regression\", \"Checking = 3 or 4\")\n",
        "display_coefficients(logistic_model2, X2_train_transformed.columns, \"Logistic Regression\", \"Checking = 3 or 4\")\n"
      ]
    },
    {
      "cell_type": "markdown",
      "id": "a15379c6",
      "metadata": {
        "id": "a15379c6"
      },
      "source": [
        "# Q5) Performance Evaluation - ROC, GINI, KS"
      ]
    },
    {
      "cell_type": "code",
      "execution_count": null,
      "id": "b5a3c0ec",
      "metadata": {
        "id": "b5a3c0ec"
      },
      "outputs": [],
      "source": [
        "import numpy as np\n",
        "from sklearn.metrics import roc_curve, roc_auc_score, confusion_matrix, auc\n",
        "import numpy as np\n",
        "from scipy.special import expit\n",
        "\n",
        "# Define a function to transform linear regression output to probabilities using the sigmoid function\n",
        "def lr_to_proba(y_pred):\n",
        "    return expit(y_pred)\n",
        "\n",
        "def calc_gini(auc_score):\n",
        "    return (2 * auc_score) - 1\n",
        "\n",
        "def calc_ks(y_true, y_pred_prob):\n",
        "    fpr, tpr, thresholds = roc_curve(y_true, y_pred_prob)\n",
        "    return np.max(tpr - fpr)\n",
        "\n",
        "# Train and obtain predicted probabilities for the validation set\n",
        "# Use models trained in previous steps\n",
        "y1_pred_lr = linear_model1.predict(X1_val_transformed)\n",
        "y1_pred_prob_lr = lr_to_proba(y1_pred_lr)\n",
        "y1_pred_prob_logreg = logistic_model1.predict_proba(X1_val_transformed)[:, 1]\n",
        "y2_pred_lr = linear_model2.predict(X2_val_transformed)\n",
        "y2_pred_prob_lr = lr_to_proba(y2_pred_lr)\n",
        "y2_pred_prob_logreg = logistic_model2.predict_proba(X2_val_transformed)[:, 1]\n",
        "\n",
        "# Calculate the sensitivity, specificity, and thresholds for each scorecard\n",
        "fpr1_lr, tpr1_lr, thresholds1_lr = roc_curve(y1_val, y1_pred_prob_lr)\n",
        "fpr1_logreg, tpr1_logreg, thresholds1_logreg = roc_curve(y1_val, y1_pred_prob_logreg)\n",
        "fpr2_lr, tpr2_lr, thresholds2_lr = roc_curve(y2_val, y2_pred_prob_lr)\n",
        "fpr2_logreg, tpr2_logreg, thresholds2_logreg = roc_curve(y2_val, y2_pred_prob_logreg)\n",
        "\n",
        "# Plot the ROC curves for each scorecard\n",
        "plt.figure()\n",
        "plt.plot(fpr1_lr, tpr1_lr, label=\"Linear Regression - Checking = 1 or 2\")\n",
        "plt.plot(fpr1_logreg, tpr1_logreg, label=\"Logistic Regression - Checking = 1 or 2\")\n",
        "plt.plot(fpr2_lr, tpr2_lr, label=\"Linear Regression - Checking = 3 or 4\")\n",
        "plt.plot(fpr2_logreg, tpr2_logreg, label=\"Logistic Regression - Checking = 3 or 4\")\n",
        "plt.plot([0, 1], [0, 1], linestyle=\"--\")\n",
        "plt.xlabel(\"False Positive Rate\")\n",
        "plt.ylabel(\"True Positive Rate\")\n",
        "plt.title(\"ROC Curves\")\n",
        "plt.legend()\n",
        "plt.show()\n",
        "\n",
        "# Calculate the AUC, Gini coefficient, and KS values for each scorecard\n",
        "auc1_lr = roc_auc_score(y1_val, y1_pred_prob_lr)\n",
        "auc1_logreg = roc_auc_score(y1_val, y1_pred_prob_logreg)\n",
        "auc2_lr = roc_auc_score(y2_val, y2_pred_prob_lr)\n",
        "auc2_logreg = roc_auc_score(y2_val, y2_pred_prob_logreg)\n",
        "\n",
        "gini1_lr = calc_gini(auc1_lr)\n",
        "gini1_logreg = calc_gini(auc1_logreg)\n",
        "gini2_lr = calc_gini(auc2_lr)\n",
        "gini2_logreg = calc_gini(auc2_logreg)\n",
        "\n",
        "ks1_lr = calc_ks(y1_val, y1_pred_prob_lr)\n",
        "ks1_logreg = calc_ks(y1_val, y1_pred_prob_logreg)\n",
        "ks2_lr = calc_ks(y2_val, y2_pred_prob_lr)\n",
        "ks2_logreg = calc_ks(y2_val, y2_pred_prob_logreg)\n",
        "\n",
        "# Print the AUC, Gini coefficient, and KS values for each scorecard\n",
        "print(\"Linear Regression - Checking = 1 or 2\")\n",
        "print(\"AUC:\", auc1_lr)\n",
        "print(\"Gini Coefficient:\", gini1_lr)\n",
        "print(\"KS:\", ks1_lr)\n",
        "print(\"\\nLogistic Regression - Checking = 1 or 2\")\n",
        "print(\"AUC:\", auc1_logreg)\n",
        "print(\"Gini Coefficient:\", gini1_logreg)\n",
        "print(\"KS:\", ks1_logreg)\n",
        "print(\"\\nLinear Regression - Checking = 3 or 4\")\n",
        "print(\"AUC:\", auc2_lr)\n",
        "print(\"Gini Coefficient:\", gini2_lr)\n",
        "print(\"KS:\", ks2_lr)\n",
        "print(\"\\nLogistic Regression - Checking = 3 or 4\")\n",
        "print(\"AUC:\", auc2_logreg)\n",
        "print(\"Gini Coefficient:\", gini2_logreg)\n",
        "print(\"KS:\", ks2_logreg)\n",
        "\n",
        "\n",
        "\n"
      ]
    },
    {
      "cell_type": "code",
      "execution_count": null,
      "id": "1cef1cd7",
      "metadata": {
        "id": "1cef1cd7"
      },
      "outputs": [],
      "source": [
        "import matplotlib.pyplot as plt\n",
        "\n",
        "\n",
        "fig, (ax1, ax2) = plt.subplots(1, 2, figsize=(12, 6))\n",
        "\n",
        "# Plot the ROC curves for Checking = 1 or 2\n",
        "ax1.plot(fpr1_lr, tpr1_lr, label=\"Linear Regression\")\n",
        "ax1.plot(fpr1_logreg, tpr1_logreg, label=\"Logistic Regression\")\n",
        "ax1.plot([0, 1], [0, 1], linestyle=\"--\")\n",
        "ax1.set_xlabel(\"False Positive Rate\")\n",
        "ax1.set_ylabel(\"True Positive Rate\")\n",
        "ax1.set_title(\"ROC Curves - Checking = 1 or 2\")\n",
        "ax1.legend()\n",
        "\n",
        "# Plot the ROC curves for Checking = 3 or 4\n",
        "ax2.plot(fpr2_lr, tpr2_lr, label=\"Linear Regression\")\n",
        "ax2.plot(fpr2_logreg, tpr2_logreg, label=\"Logistic Regression\")\n",
        "ax2.plot([0, 1], [0, 1], linestyle=\"--\")\n",
        "ax2.set_xlabel(\"False Positive Rate\")\n",
        "ax2.set_ylabel(\"True Positive Rate\")\n",
        "ax2.set_title(\"ROC Curves - Checking = 3 or 4\")\n",
        "ax2.legend()\n",
        "\n",
        "plt.show()\n"
      ]
    }
  ],
  "metadata": {
    "kernelspec": {
      "display_name": "Python 3 (ipykernel)",
      "language": "python",
      "name": "python3"
    },
    "language_info": {
      "codemirror_mode": {
        "name": "ipython",
        "version": 3
      },
      "file_extension": ".py",
      "mimetype": "text/x-python",
      "name": "python",
      "nbconvert_exporter": "python",
      "pygments_lexer": "ipython3",
      "version": "3.10.10"
    },
    "colab": {
      "provenance": [],
      "toc_visible": true,
      "machine_shape": "hm"
    },
    "gpuClass": "standard"
  },
  "nbformat": 4,
  "nbformat_minor": 5
}